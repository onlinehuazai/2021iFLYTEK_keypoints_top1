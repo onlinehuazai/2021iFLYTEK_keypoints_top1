{
 "cells": [
  {
   "cell_type": "code",
   "execution_count": 1,
   "metadata": {},
   "outputs": [],
   "source": [
    "import time\n",
    "\n",
    "import torch\n",
    "import torch.nn as nn\n",
    "import torch.nn.functional as F\n",
    "import torchvision.models as models\n",
    "import torchvision.models._utils as _utils\n",
    "from torch.autograd import Variable\n",
    "\n",
    "\n",
    "#---------------------------------------------------#\n",
    "#   卷积块\n",
    "#   Conv2D + BatchNormalization + LeakyReLU\n",
    "#---------------------------------------------------#\n",
    "def conv_bn(inp, oup, stride = 1, leaky = 0):\n",
    "    return nn.Sequential(\n",
    "        nn.Conv2d(inp, oup, 3, stride, 1, bias=False),\n",
    "        nn.BatchNorm2d(oup),\n",
    "        nn.LeakyReLU(negative_slope=leaky, inplace=True)\n",
    "    )\n",
    "def conv_bn1X1(inp, oup, stride, leaky=0):\n",
    "    return nn.Sequential(\n",
    "        nn.Conv2d(inp, oup, 1, stride, padding=0, bias=False),\n",
    "        nn.BatchNorm2d(oup),\n",
    "        nn.LeakyReLU(negative_slope=leaky, inplace=True)\n",
    "    )\n",
    "\n",
    "#---------------------------------------------------#\n",
    "#   卷积块\n",
    "#   Conv2D + BatchNormalization\n",
    "#---------------------------------------------------#\n",
    "def conv_bn_no_relu(inp, oup, stride):\n",
    "    return nn.Sequential(\n",
    "        nn.Conv2d(inp, oup, 3, stride, 1, bias=False),\n",
    "        nn.BatchNorm2d(oup),\n",
    "    )\n",
    "\n",
    "#---------------------------------------------------#\n",
    "#   多尺度加强感受野\n",
    "#---------------------------------------------------#\n",
    "class SSH(nn.Module):\n",
    "    def __init__(self, in_channel, out_channel):\n",
    "        super(SSH, self).__init__()\n",
    "        assert out_channel % 4 == 0\n",
    "        leaky = 0\n",
    "        if (out_channel <= 64):\n",
    "            leaky = 0.1\n",
    "\n",
    "        # 3x3卷积\n",
    "        self.conv3X3 = conv_bn_no_relu(in_channel, out_channel//2, stride=1)\n",
    "\n",
    "        # 利用两个3x3卷积替代5x5卷积\n",
    "        self.conv5X5_1 = conv_bn(in_channel, out_channel//4, stride=1, leaky = leaky)\n",
    "        self.conv5X5_2 = conv_bn_no_relu(out_channel//4, out_channel//4, stride=1)\n",
    "\n",
    "        # 利用三个3x3卷积替代7x7卷积\n",
    "        self.conv7X7_2 = conv_bn(out_channel//4, out_channel//4, stride=1, leaky = leaky)\n",
    "        self.conv7x7_3 = conv_bn_no_relu(out_channel//4, out_channel//4, stride=1)\n",
    "\n",
    "    def forward(self, inputs):\n",
    "        conv3X3 = self.conv3X3(inputs)\n",
    "\n",
    "        conv5X5_1 = self.conv5X5_1(inputs)\n",
    "        conv5X5 = self.conv5X5_2(conv5X5_1)\n",
    "\n",
    "        conv7X7_2 = self.conv7X7_2(conv5X5_1)\n",
    "        conv7X7 = self.conv7x7_3(conv7X7_2)\n",
    "        \n",
    "        # 所有结果堆叠起来\n",
    "        out = torch.cat([conv3X3, conv5X5, conv7X7], dim=1)\n",
    "        out = F.relu(out)\n",
    "        return out\n",
    "\n",
    "class FPN(nn.Module):\n",
    "    def __init__(self,in_channels_list,out_channels):\n",
    "        super(FPN,self).__init__()\n",
    "        leaky = 0\n",
    "        if (out_channels <= 64):\n",
    "            leaky = 0.1\n",
    "        self.output1 = conv_bn1X1(in_channels_list[0], out_channels, stride = 1, leaky = leaky)\n",
    "        self.output2 = conv_bn1X1(in_channels_list[1], out_channels, stride = 1, leaky = leaky)\n",
    "        self.output3 = conv_bn1X1(in_channels_list[2], out_channels, stride = 1, leaky = leaky)\n",
    "\n",
    "        self.merge1 = conv_bn(out_channels, out_channels, leaky = leaky)\n",
    "        self.merge2 = conv_bn(out_channels, out_channels, leaky = leaky)\n",
    "\n",
    "    def forward(self, inputs):\n",
    "        #-------------------------------------------#\n",
    "        #   获得三个shape的有效特征层\n",
    "        #   分别是C3  80, 80, 64\n",
    "        #         C4  40, 40, 128\n",
    "        #         C5  20, 20, 256\n",
    "        #-------------------------------------------#\n",
    "        inputs = list(inputs.values())\n",
    "\n",
    "        #-------------------------------------------#\n",
    "        #   获得三个shape的有效特征层\n",
    "        #   分别是output1  80, 80, 64\n",
    "        #         output2  40, 40, 64\n",
    "        #         output3  20, 20, 64\n",
    "        #-------------------------------------------#\n",
    "        output1 = self.output1(inputs[0])\n",
    "        output2 = self.output2(inputs[1])\n",
    "        output3 = self.output3(inputs[2])\n",
    "\n",
    "        #-------------------------------------------#\n",
    "        #   output3上采样和output2特征融合\n",
    "        #   output2  40, 40, 64\n",
    "        #-------------------------------------------#\n",
    "        up3 = F.interpolate(output3, size=[output2.size(2), output2.size(3)], mode=\"nearest\")\n",
    "        output2 = output2 + up3\n",
    "        output2 = self.merge2(output2)\n",
    "\n",
    "        #-------------------------------------------#\n",
    "        #   output2上采样和output1特征融合\n",
    "        #   output1  80, 80, 64\n",
    "        #-------------------------------------------#\n",
    "        up2 = F.interpolate(output2, size=[output1.size(2), output1.size(3)], mode=\"nearest\")\n",
    "        output1 = output1 + up2\n",
    "        output1 = self.merge1(output1)\n",
    "\n",
    "        out = [output1, output2, output3]\n",
    "        return out"
   ]
  },
  {
   "cell_type": "code",
   "execution_count": 2,
   "metadata": {},
   "outputs": [],
   "source": [
    "import time\n",
    "\n",
    "import torch\n",
    "import torch.nn as nn\n",
    "import torch.nn.functional as F\n",
    "import torchvision.models as models\n",
    "import torchvision.models._utils as _utils\n",
    "from torch.autograd import Variable\n",
    "\n",
    "\n",
    "def conv_bn(inp, oup, stride = 1, leaky = 0.1):\n",
    "    return nn.Sequential(\n",
    "        nn.Conv2d(inp, oup, 3, stride, 1, bias=False),\n",
    "        nn.BatchNorm2d(oup),\n",
    "        nn.LeakyReLU(negative_slope=leaky, inplace=True)\n",
    "    )\n",
    "    \n",
    "def conv_dw(inp, oup, stride = 1, leaky=0.1):\n",
    "    return nn.Sequential(\n",
    "        nn.Conv2d(inp, inp, 3, stride, 1, groups=inp, bias=False),\n",
    "        nn.BatchNorm2d(inp),\n",
    "        nn.LeakyReLU(negative_slope= leaky,inplace=True),\n",
    "\n",
    "        nn.Conv2d(inp, oup, 1, 1, 0, bias=False),\n",
    "        nn.BatchNorm2d(oup),\n",
    "        nn.LeakyReLU(negative_slope= leaky,inplace=True),\n",
    "    )"
   ]
  },
  {
   "cell_type": "code",
   "execution_count": 3,
   "metadata": {},
   "outputs": [
    {
     "data": {
      "text/plain": [
       "torch.Size([70, 8])"
      ]
     },
     "execution_count": 3,
     "metadata": {},
     "output_type": "execute_result"
    }
   ],
   "source": [
    "from collections import OrderedDict\n",
    "\n",
    "import torch\n",
    "import torch.nn as nn\n",
    "import torch.nn.functional as F\n",
    "import torchvision.models._utils as _utils\n",
    "import torchvision.models.detection.backbone_utils as backbone_utils\n",
    "from torchvision import models\n",
    "\n",
    "\n",
    "#---------------------------------------------------#\n",
    "#   人脸关键点预测\n",
    "#---------------------------------------------------#\n",
    "class LandmarkHead(nn.Module):\n",
    "    def __init__(self,inchannels=512, outchannels=1024):\n",
    "        super(LandmarkHead,self).__init__()\n",
    "        \n",
    "#         self.conv3x3 = nn.Conv2d(inchannels, outchannels, kernel_size=(3,3),stride=1,padding=0)\n",
    "        self.conv3x3 = conv_bn(inchannels, outchannels)\n",
    "        self.conv1x1 = nn.Conv2d(inchannels, outchannels, kernel_size=(1,1),stride=1,padding=0)\n",
    "        self.avg = nn.AdaptiveAvgPool2d((1,1))\n",
    "\n",
    "    def forward(self,x):\n",
    "        x = self.conv3x3(x)\n",
    "        out = self.conv1x1(x)\n",
    "        out = self.avg(out)\n",
    "\n",
    "        return out.view(out.shape[0], -1)\n",
    "\n",
    "class RetinaFace(nn.Module):\n",
    "    def __init__(self, cfg = None, pretrained = True, mode = 'train'):\n",
    "        super(RetinaFace,self).__init__()\n",
    "        backbone = None\n",
    "        if cfg['name'] == 'mobilenet0.25':\n",
    "            backbone = MobileNetV1()\n",
    "            if pretrained:\n",
    "                checkpoint = torch.load(\"./model_data/mobilenetV1X0.25_pretrain.tar\", map_location=torch.device('cpu'))\n",
    "                from collections import OrderedDict\n",
    "                new_state_dict = OrderedDict()\n",
    "                for k, v in checkpoint['state_dict'].items():\n",
    "                    name = k[7:]\n",
    "                    new_state_dict[name] = v\n",
    "                backbone.load_state_dict(new_state_dict)\n",
    "        elif cfg['name'] == 'Resnet50':\n",
    "            backbone = models.resnet50(pretrained=pretrained)\n",
    "\n",
    "        self.body = _utils.IntermediateLayerGetter(backbone, cfg['return_layers'])\n",
    "\n",
    "        # 获得每个初步有效特征层的通道数\n",
    "        in_channels_list = [cfg['in_channel'] * 2, cfg['in_channel'] * 4, cfg['in_channel'] * 8]\n",
    "        self.fpn = FPN(in_channels_list, cfg['out_channel'])\n",
    "        # 利用ssh模块提高模型感受野\n",
    "        self.ssh1 = SSH(cfg['out_channel'], cfg['out_channel'])\n",
    "        self.ssh2 = SSH(cfg['out_channel'], cfg['out_channel'])\n",
    "        self.ssh3 = SSH(cfg['out_channel'], cfg['out_channel'])\n",
    "\n",
    "        self.LandmarkHead = self._make_landmark_head(fpn_num=3, inchannels=cfg['out_channel'])\n",
    "\n",
    "        self.mode = mode\n",
    "        self.fc = nn.Sequential(nn.Linear(768,8),\n",
    "                                nn.Tanh()\n",
    "                               )\n",
    "\n",
    "\n",
    "    def _make_landmark_head(self,fpn_num=3,inchannels=64):\n",
    "        landmarkhead = nn.ModuleList()\n",
    "        for i in range(fpn_num):\n",
    "            landmarkhead.append(LandmarkHead(inchannels,inchannels))\n",
    "        return landmarkhead\n",
    "\n",
    "    def forward(self,inputs):\n",
    "        #-------------------------------------------#\n",
    "        #   获得三个shape的有效特征层\n",
    "        #   分别是C3  80, 80, 64\n",
    "        #         C4  40, 40, 128\n",
    "        #         C5  20, 20, 256\n",
    "        #-------------------------------------------#\n",
    "        out = self.body.forward(inputs)\n",
    "\n",
    "        #-------------------------------------------#\n",
    "        #   获得三个shape的有效特征层\n",
    "        #   分别是output1  80, 80, 64\n",
    "        #         output2  40, 40, 64\n",
    "        #         output3  20, 20, 64\n",
    "        #-------------------------------------------#\n",
    "        fpn = self.fpn.forward(out)\n",
    "\n",
    "        feature1 = self.ssh1(fpn[0])\n",
    "\n",
    "        feature2 = self.ssh2(fpn[1])\n",
    "\n",
    "        feature3 = self.ssh3(fpn[2])\n",
    "\n",
    "        features = [feature1, feature2, feature3]\n",
    "\n",
    "        #-------------------------------------------#\n",
    "        #   将所有结果进行堆叠\n",
    "        #-------------------------------------------#\n",
    "#         bbox_regressions = torch.cat([self.BboxHead[i](feature) for i, feature in enumerate(features)], dim=1)\n",
    "#         classifications = torch.cat([self.ClassHead[i](feature) for i, feature in enumerate(features)], dim=1)\n",
    "        ldm_regressions = torch.cat([self.LandmarkHead[i](feature) for i, feature in enumerate(features)], dim=1)\n",
    "\n",
    "        return self.fc(ldm_regressions)\n",
    "    \n",
    "    \n",
    "cfg_re50 = {\n",
    "    'name': 'Resnet50',\n",
    "    'min_sizes': [[8, 16], [32, 64], [128, 256]],\n",
    "    'steps': [8, 16, 32],\n",
    "    'variance': [0.1, 0.2],\n",
    "    'clip': False,\n",
    "    'loc_weight': 2.0,\n",
    "    'train_image_size': 192,\n",
    "    'return_layers': {'layer2': 1, 'layer3': 2, 'layer4': 3},\n",
    "    'in_channel': 256,\n",
    "    'out_channel': 256\n",
    "}\n",
    "\n",
    "img = torch.randn((70,3,192,192))\n",
    "net = RetinaFace(cfg=cfg_re50)\n",
    "net(img).shape"
   ]
  },
  {
   "cell_type": "code",
   "execution_count": 4,
   "metadata": {},
   "outputs": [],
   "source": [
    "import os, sys, codecs, glob\n",
    "from PIL import Image, ImageDraw\n",
    "import numpy as np\n",
    "import pandas as pd\n",
    "import cv2\n",
    "\n",
    "import torch\n",
    "torch.backends.cudnn.benchmark = False\n",
    "import torchvision.models as models\n",
    "import torchvision.transforms as transforms\n",
    "import torchvision.datasets as datasets\n",
    "import torch.nn as nn\n",
    "import torch.nn.functional as F\n",
    "import torch.optim as optim\n",
    "from torch.autograd import Variable\n",
    "from torch.utils.data.dataset import Dataset"
   ]
  },
  {
   "cell_type": "code",
   "execution_count": 6,
   "metadata": {},
   "outputs": [
    {
     "name": "stdout",
     "output_type": "stream",
     "text": [
      "<class 'pandas.core.frame.DataFrame'>\n",
      "Int64Index: 4965 entries, 0 to 4999\n",
      "Data columns (total 8 columns):\n",
      " #   Column                     Non-Null Count  Dtype  \n",
      "---  ------                     --------------  -----  \n",
      " 0   left_eye_center_x          4965 non-null   float64\n",
      " 1   left_eye_center_y          4965 non-null   float64\n",
      " 2   right_eye_center_x         4965 non-null   float64\n",
      " 3   right_eye_center_y         4965 non-null   float64\n",
      " 4   nose_tip_x                 4965 non-null   float64\n",
      " 5   nose_tip_y                 4965 non-null   float64\n",
      " 6   mouth_center_bottom_lip_x  4965 non-null   float64\n",
      " 7   mouth_center_bottom_lip_y  4965 non-null   float64\n",
      "dtypes: float64(8)\n",
      "memory usage: 349.1 KB\n"
     ]
    }
   ],
   "source": [
    "train_df = pd.read_csv('data/train.csv')\n",
    "# train_df = train_df.fillna(-1)\n",
    "\n",
    "# 缺失值处理\n",
    "# 去掉缺失值行   预测的时候加入训练集继续训练\n",
    "train_df = train_df.dropna(axis = 0)\n",
    "train_df.info()"
   ]
  },
  {
   "cell_type": "code",
   "execution_count": 7,
   "metadata": {},
   "outputs": [],
   "source": [
    "train_img = np.load('data/train.npy')[:,:,list(train_df.index)]\n",
    "test_img = np.load('data/test.npy')"
   ]
  },
  {
   "cell_type": "code",
   "execution_count": 7,
   "metadata": {},
   "outputs": [
    {
     "data": {
      "text/plain": [
       "(96, 96, 4965)"
      ]
     },
     "execution_count": 7,
     "metadata": {},
     "output_type": "execute_result"
    }
   ],
   "source": [
    "train_img.shape"
   ]
  },
  {
   "cell_type": "code",
   "execution_count": 17,
   "metadata": {},
   "outputs": [],
   "source": [
    "import cv2\n",
    "import albumentations as A\n",
    "\n",
    "\n",
    "def flip(img, annotation):\n",
    "\n",
    "    img = np.fliplr(img).copy()\n",
    "    h, w = img.shape[:2]\n",
    "\n",
    "    x_min, y_min, x_max, y_max = [0,0,h,w]\n",
    "    landmark_x = annotation[0::2]\n",
    "    landmark_y = annotation[1::2]\n",
    "\n",
    "    bbox = np.array([w - x_max, y_min, w - x_min, y_max])\n",
    "    for i in range(len(landmark_x)):\n",
    "        if landmark_x[i] == -1:\n",
    "            landmark_x[i] = landmark_x[i]\n",
    "        else:\n",
    "            landmark_x[i] = w - landmark_x[i]\n",
    "\n",
    "    # 左右眼交换\n",
    "    landmark_x[0], landmark_x[1] = landmark_x[1], landmark_x[0]\n",
    "    landmark_y[0], landmark_y[1] = landmark_y[1], landmark_y[0]\n",
    "    new_annotation = list()\n",
    "\n",
    "\n",
    "    for i in range(len(landmark_x)):\n",
    "        new_annotation.append(landmark_x[i])\n",
    "        new_annotation.append(landmark_y[i])\n",
    "\n",
    "    return img, new_annotation\n",
    "\n",
    "\n",
    "\n",
    "\n",
    "def scale(img, annotation,f_xy=2):\n",
    "    origin_h, origin_w = img.shape[:2]\n",
    "\n",
    "    bbox = [0,0,origin_h,origin_w]\n",
    "    landmark_x = annotation[0::2]\n",
    "    landmark_y = annotation[1::2]\n",
    "\n",
    "    h, w = int(origin_h * f_xy), int(origin_w * f_xy)\n",
    "    image = cv2.resize(img, (h, w)).astype(np.uint8)\n",
    "\n",
    "    new_annotation = list()\n",
    "\n",
    "\n",
    "    for i in range(len(landmark_x)):\n",
    "        landmark_x[i] = landmark_x[i] * f_xy\n",
    "        landmark_y[i] = landmark_y[i] * f_xy\n",
    "        new_annotation.append(landmark_x[i])\n",
    "        new_annotation.append(landmark_y[i])\n",
    "\n",
    "    return image, new_annotation\n",
    "\n",
    "\n",
    "\n",
    "\n",
    "def rotate(img, annotation, alpha=30):\n",
    "\n",
    "    h, w = img.shape[:2]\n",
    "    bbox = [0,0,h,w]\n",
    "\n",
    "    landmark_x = annotation[0::2]\n",
    "    landmark_y = annotation[1::2]\n",
    "\n",
    "    center = ((bbox[0] + bbox[2]) / 2, (bbox[1] + bbox[3]) / 2)\n",
    "    rot_mat = cv2.getRotationMatrix2D(center, alpha, 1)\n",
    "    img_rotated_by_alpha = cv2.warpAffine(img, rot_mat,\n",
    "                                          (img.shape[1], img.shape[0]))\n",
    "\n",
    "    point_x = [bbox[0], bbox[2], bbox[0], bbox[2]]\n",
    "    point_y = [bbox[1], bbox[3], bbox[3], bbox[1]]\n",
    "\n",
    "\n",
    "    new_annotation = list()\n",
    "\n",
    "    for (x, y) in zip(landmark_x, landmark_y):\n",
    "        if x == -1:\n",
    "            new_annotation.append(x)\n",
    "            new_annotation.append(y)\n",
    "        else:\n",
    "            new_annotation.append(rot_mat[0][0] * x + rot_mat[0][1] * y +\n",
    "                                  rot_mat[0][2])\n",
    "            new_annotation.append(rot_mat[1][0] * x + rot_mat[1][1] * y +\n",
    "                                  rot_mat[1][2])\n",
    "\n",
    "    return img_rotated_by_alpha, new_annotation\n",
    "\n",
    "\n",
    "transform_Resize = A.Compose(\n",
    "    [A.Resize (192,192)], \n",
    "     keypoint_params=A.KeypointParams(format='xy')\n",
    ")\n",
    "\n",
    "def Crop_top(img, annotation,margin=15):\n",
    "    origin_h, origin_w = img.shape[:2]\n",
    "\n",
    "    landmark_x = annotation[0::2]\n",
    "    landmark_y = annotation[1::2]\n",
    "    min_y = max(int(min(landmark_y) - margin),0)\n",
    "    image = img[min_y:,:]\n",
    "\n",
    "    new_annotation = list()\n",
    "\n",
    "\n",
    "    for i in range(len(landmark_y)):\n",
    "        landmark_y[i] = landmark_y[i] - min_y\n",
    "        new_annotation.append(landmark_x[i])\n",
    "        new_annotation.append(landmark_y[i])\n",
    "        \n",
    "    # resize\n",
    "    transformed = transform_Resize(image=image, keypoints=np.array(new_annotation).reshape(-1,2))\n",
    "\n",
    "    return transformed['image'], transformed['keypoints']\n",
    "\n",
    "\n",
    "def Crop_left(img, annotation,margin):\n",
    "    origin_h, origin_w = img.shape[:2]\n",
    "\n",
    "    landmark_x = annotation[0::2]\n",
    "    landmark_y = annotation[1::2]\n",
    "    min_x = max(0,int(min(landmark_x) - margin))\n",
    "    image = img[:,min_x:]\n",
    "\n",
    "    new_annotation = list()\n",
    "\n",
    "\n",
    "    for i in range(len(landmark_y)):\n",
    "        landmark_x[i] = landmark_x[i] - min_x\n",
    "        new_annotation.append(landmark_x[i])\n",
    "        new_annotation.append(landmark_y[i])\n",
    "        \n",
    "    # resize\n",
    "    transformed = transform_Resize(image=image, keypoints=np.array(new_annotation).reshape(-1,2))\n",
    "\n",
    "    return transformed['image'], transformed['keypoints']\n",
    "\n",
    "def Crop_bottom(img, annotation,margin):\n",
    "    origin_h, origin_w = img.shape[:2]\n",
    "\n",
    "    landmark_x = annotation[0::2]\n",
    "    landmark_y = annotation[1::2]\n",
    "    max_y = min(int(max(landmark_y) + margin),192)\n",
    "    image = img[:max_y,:]\n",
    "\n",
    "    new_annotation = list()\n",
    "\n",
    "\n",
    "    for i in range(len(landmark_y)):\n",
    "\n",
    "        new_annotation.append(landmark_x[i])\n",
    "        new_annotation.append(landmark_y[i])\n",
    "        \n",
    "    # resize\n",
    "    transformed = transform_Resize(image=image, keypoints=np.array(new_annotation).reshape(-1,2))\n",
    "\n",
    "    return transformed['image'], transformed['keypoints']\n",
    "\n",
    "\n",
    "def Crop_right(img, annotation,margin):\n",
    "    origin_h, origin_w = img.shape[:2]\n",
    "\n",
    "    landmark_x = annotation[0::2]\n",
    "    landmark_y = annotation[1::2]\n",
    "    max_x = min(int(max(landmark_x) + margin),192)\n",
    "    image = img[:,:max_x]\n",
    "\n",
    "    new_annotation = list()\n",
    "\n",
    "\n",
    "    for i in range(len(landmark_y)):\n",
    "\n",
    "        new_annotation.append(landmark_x[i])\n",
    "        new_annotation.append(landmark_y[i])\n",
    "        \n",
    "    # resize\n",
    "    transformed = transform_Resize(image=image, keypoints=np.array(new_annotation).reshape(-1,2))\n",
    "\n",
    "    return transformed['image'], transformed['keypoints']"
   ]
  },
  {
   "cell_type": "markdown",
   "metadata": {},
   "source": [
    "# 数据增强"
   ]
  },
  {
   "cell_type": "code",
   "execution_count": 9,
   "metadata": {},
   "outputs": [
    {
     "name": "stderr",
     "output_type": "stream",
     "text": [
      "/home/fqh/anaconda3/lib/python3.6/site-packages/albumentations/augmentations/transforms.py:1772: FutureWarning: This class has been deprecated. Please use RandomBrightnessContrast\n",
      "  FutureWarning,\n"
     ]
    }
   ],
   "source": [
    "\n",
    "\n",
    "\n",
    "\n",
    "transform_RandomContrast = A.Compose(\n",
    "    [A.RandomContrast(p=1)], \n",
    "    keypoint_params=A.KeypointParams(format='xy')\n",
    ")\n",
    "# # %pylab inline\n",
    "# transformed = transform(image=aug_imgs[4500], keypoints=np.array(aug_points[4500]).reshape(-1,2))\n",
    "# transformed['keypoints'] = np.array(transformed['keypoints'])\n",
    "\n",
    "# plt.scatter(transformed['keypoints'][:,0], transformed['keypoints'][:,1])\n",
    "# plt.imshow(transformed['image'], cmap='gray')\n",
    "\n",
    "transform_RandomBrightnessContrast = A.Compose(\n",
    "    [A.RandomBrightnessContrast(p=1)], \n",
    "    keypoint_params=A.KeypointParams(format='xy')\n",
    ")\n",
    "\n",
    "transform_Blur = A.Compose(\n",
    "    [A.Blur(p=0.5)], \n",
    "    keypoint_params=A.KeypointParams(format='xy')\n",
    ")\n",
    "\n",
    "\n",
    "transform_CropAndPad = A.Compose(\n",
    "    [A.CropAndPad(percent=0.1,pad_cval=50)], \n",
    "     keypoint_params=A.KeypointParams(format='xy')\n",
    ")\n",
    "\n",
    "\n",
    "# %pylab inline\n",
    "# transformed = transform_ShiftScaleRotate(image=aug_imgs[1], keypoints=np.array(aug_points[1]).reshape(-1,2))\n",
    "\n",
    "# transformed['keypoints'] = np.array(transformed['keypoints'])\n",
    "\n",
    "# plt.scatter(transformed['keypoints'][:,0], transformed['keypoints'][:,1])\n",
    "# plt.imshow(transformed['image'], cmap='gray')"
   ]
  },
  {
   "cell_type": "code",
   "execution_count": 10,
   "metadata": {},
   "outputs": [],
   "source": [
    "from  itertools import chain\n",
    "\n",
    "aug_imgs = []\n",
    "aug_points = []\n",
    "\n",
    "# step1:放大到 96 * 2 = 192\n",
    "for i in range(train_img.shape[-1]):\n",
    "    aug, pnt = scale(train_img[:,:,i], list(train_df.iloc[i].values))\n",
    "    aug_imgs.append(aug)\n",
    "    aug_points.append(pnt)\n",
    "    \n",
    "# step2: 水平翻转 + 旋转5  + 旋转10  + 旋转 15 + 旋转 20\n",
    "img_len = len(aug_imgs)\n",
    "for i in range(img_len):\n",
    "    aug1, pnt1 = flip(aug_imgs[i], aug_points[i])\n",
    "    aug_imgs.append(aug1)\n",
    "    aug_points.append(pnt1)\n",
    "    \n",
    "    aug2, pnt2 = rotate(aug_imgs[i], aug_points[i], 10)\n",
    "    aug_imgs.append(aug2)\n",
    "    aug_points.append(pnt2)\n",
    "    \n",
    "    aug3, pnt3 = rotate(aug_imgs[i], aug_points[i], 20)\n",
    "    aug_imgs.append(aug3)\n",
    "    aug_points.append(pnt3)\n",
    "    \n",
    "    aug4, pnt4 = rotate(aug_imgs[i], aug_points[i], 30)\n",
    "    aug_imgs.append(aug4)\n",
    "    aug_points.append(pnt4)\n",
    "    \n",
    "    aug5, pnt5 = rotate(aug_imgs[i], aug_points[i], -20)\n",
    "    aug_imgs.append(aug5)\n",
    "    aug_points.append(pnt5)\n",
    "    \n",
    "    aug6, pnt6 = rotate(aug_imgs[i], aug_points[i], -30)\n",
    "    aug_imgs.append(aug6)\n",
    "    aug_points.append(pnt6)\n",
    "    \n",
    "    aug7, pnt7 = rotate(aug_imgs[i], aug_points[i], -60)\n",
    "    aug_imgs.append(aug7)\n",
    "    aug_points.append(pnt7)\n",
    "    \n",
    "    aug8, pnt8 = rotate(aug_imgs[i], aug_points[i], 60)\n",
    "    aug_imgs.append(aug8)\n",
    "    aug_points.append(pnt8)\n",
    "    \n",
    "#     albumentations 增强\n",
    "    transformed = transform_RandomContrast(image=aug_imgs[i], keypoints=np.array(aug_points[i]).reshape(-1,2))\n",
    "    aug_imgs.append(transformed['image'])\n",
    "    aug_points.append(list(chain.from_iterable(transformed['keypoints'])))\n",
    "    \n",
    "    transformed = transform_RandomBrightnessContrast(image=aug_imgs[i], keypoints=np.array(aug_points[i]).reshape(-1,2))\n",
    "    aug_imgs.append(transformed['image'])\n",
    "    aug_points.append(list(chain.from_iterable(transformed['keypoints'])))\n",
    "    \n",
    "    transformed = transform_Blur(image=aug_imgs[i], keypoints=np.array(aug_points[i]).reshape(-1,2))\n",
    "    aug_imgs.append(transformed['image'])\n",
    "    aug_points.append(list(chain.from_iterable(transformed['keypoints'])))\n",
    "\n",
    "    transformed = transform_CropAndPad(image=aug_imgs[i], keypoints=np.array(aug_points[i]).reshape(-1,2))\n",
    "    aug_imgs.append(transformed['image'])\n",
    "    aug_points.append(list(chain.from_iterable(transformed['keypoints'])))\n",
    "    \n",
    "    \n",
    "    aug9, pnt9 = Crop_top(aug_imgs[i], aug_points[i],10)\n",
    "    aug_imgs.append(aug9)\n",
    "    aug_points.append(list(chain.from_iterable(pnt9)))\n",
    "    \n",
    "    aug10, pnt10 = Crop_left(aug_imgs[i], aug_points[i],10)\n",
    "    aug_imgs.append(aug10)\n",
    "    aug_points.append(list(chain.from_iterable(pnt10)))\n",
    "    \n",
    "    aug11, pnt11 = Crop_bottom(aug_imgs[i], aug_points[i],10)\n",
    "    aug_imgs.append(aug11)\n",
    "    aug_points.append(list(chain.from_iterable(pnt11)))\n",
    "    \n",
    "    \n",
    "    aug12, pnt12 = Crop_right(aug_imgs[i], aug_points[i],10)\n",
    "    aug_imgs.append(aug12)\n",
    "    aug_points.append(list(chain.from_iterable(pnt12)))\n",
    "    \n",
    "    \n",
    "    aug13, pnt13 = Crop_top(aug_imgs[i], aug_points[i],5)\n",
    "    aug_imgs.append(aug13)\n",
    "    aug_points.append(list(chain.from_iterable(pnt13)))\n",
    "    \n",
    "    aug14, pnt14 = Crop_left(aug_imgs[i], aug_points[i],5)\n",
    "    aug_imgs.append(aug14)\n",
    "    aug_points.append(list(chain.from_iterable(pnt14)))\n",
    "    \n",
    "    aug15, pnt15 = Crop_bottom(aug_imgs[i], aug_points[i],5)\n",
    "    aug_imgs.append(aug15)\n",
    "    aug_points.append(list(chain.from_iterable(pnt15)))\n",
    "    \n",
    "    \n",
    "    aug16, pnt16 = Crop_right(aug_imgs[i], aug_points[i],5)\n",
    "    aug_imgs.append(aug16)\n",
    "    aug_points.append(list(chain.from_iterable(pnt16)))\n",
    "    \n",
    "    \n",
    "    aug17, pnt17 = Crop_top(aug_imgs[i], aug_points[i],15)\n",
    "    aug_imgs.append(aug17)\n",
    "    aug_points.append(list(chain.from_iterable(pnt17)))\n",
    "    \n",
    "    aug18, pnt18 = Crop_left(aug_imgs[i], aug_points[i],15)\n",
    "    aug_imgs.append(aug18)\n",
    "    aug_points.append(list(chain.from_iterable(pnt18)))\n",
    "    \n",
    "    aug19, pnt19 = Crop_bottom(aug_imgs[i], aug_points[i],15)\n",
    "    aug_imgs.append(aug19)\n",
    "    aug_points.append(list(chain.from_iterable(pnt19)))\n",
    "    \n",
    "    \n",
    "    aug20, pnt20 = Crop_right(aug_imgs[i], aug_points[i],15)\n",
    "    aug_imgs.append(aug20)\n",
    "    aug_points.append(list(chain.from_iterable(pnt20)))\n",
    "    \n",
    "    \n",
    "    \n",
    "    \n",
    "    aug21, pnt21 = Crop_top(aug_imgs[i], aug_points[i],25)\n",
    "    aug_imgs.append(aug21)\n",
    "    aug_points.append(list(chain.from_iterable(pnt21)))\n",
    "    \n",
    "    aug22, pnt22 = Crop_left(aug_imgs[i], aug_points[i],25)\n",
    "    aug_imgs.append(aug22)\n",
    "    aug_points.append(list(chain.from_iterable(pnt22)))\n",
    "    \n",
    "    aug23, pnt23 = Crop_bottom(aug_imgs[i], aug_points[i],25)\n",
    "    aug_imgs.append(aug23)\n",
    "    aug_points.append(list(chain.from_iterable(pnt23)))\n",
    "    \n",
    "    \n",
    "    aug24, pnt24 = Crop_right(aug_imgs[i], aug_points[i],25)\n",
    "    aug_imgs.append(aug24)\n",
    "    aug_points.append(list(chain.from_iterable(pnt24)))"
   ]
  },
  {
   "cell_type": "code",
   "execution_count": 11,
   "metadata": {},
   "outputs": [
    {
     "data": {
      "text/plain": [
       "143985"
      ]
     },
     "execution_count": 11,
     "metadata": {},
     "output_type": "execute_result"
    }
   ],
   "source": [
    "len(aug_imgs)"
   ]
  },
  {
   "cell_type": "code",
   "execution_count": 12,
   "metadata": {},
   "outputs": [
    {
     "data": {
      "text/plain": [
       "(143985, 192, 192)"
      ]
     },
     "execution_count": 12,
     "metadata": {},
     "output_type": "execute_result"
    }
   ],
   "source": [
    "aug_imgs = np.array(aug_imgs)\n",
    "aug_imgs.shape"
   ]
  },
  {
   "cell_type": "code",
   "execution_count": 13,
   "metadata": {},
   "outputs": [
    {
     "data": {
      "text/plain": [
       "(143985, 8)"
      ]
     },
     "execution_count": 13,
     "metadata": {},
     "output_type": "execute_result"
    }
   ],
   "source": [
    "aug_points = np.vstack(aug_points)\n",
    "aug_points.shape"
   ]
  },
  {
   "cell_type": "code",
   "execution_count": 14,
   "metadata": {},
   "outputs": [],
   "source": [
    "def train(train_loader, model, criterion, optimizer, epoch):\n",
    "    model.train()\n",
    "\n",
    "    for i, (input, target) in enumerate(train_loader):\n",
    "        input = input.cuda(non_blocking=True).float()\n",
    "        target = target.cuda(non_blocking=True).float()\n",
    "\n",
    "        output = model(input)\n",
    "        loss = criterion(target,output)\n",
    "        optimizer.zero_grad()\n",
    "        torch.nn.utils.clip_grad_norm_(model.parameters(), 5.0)\n",
    "        loss.backward()\n",
    "        optimizer.step()\n",
    "        \n",
    "        if (i+1) % 100 == 0:\n",
    "            print(loss.item())\n",
    "            \n",
    "def validate(val_loader, model):\n",
    "    model.eval()\n",
    "    \n",
    "    val_feats = []\n",
    "    with torch.no_grad():\n",
    "        for i, (input, target) in enumerate(val_loader):\n",
    "            input = input.cuda().float()\n",
    "            target = target.cuda().float()\n",
    "            output = model(input)\n",
    "            val_feats.append(output.data.cpu().numpy())\n",
    "    return val_feats"
   ]
  },
  {
   "cell_type": "code",
   "execution_count": 11,
   "metadata": {},
   "outputs": [],
   "source": [
    "from sklearn.metrics import mean_absolute_error\n",
    "from sklearn.model_selection import KFold\n",
    "import math\n",
    "\n",
    "\n",
    "class XunFeiDataset(Dataset):\n",
    "    def __init__(self, img, keypoint, transform=None):\n",
    "        self.img = img\n",
    "        self.transform = transform\n",
    "        self.keypoint = keypoint\n",
    "\n",
    "    def __getitem__(self, index):\n",
    "        img = Image.fromarray(self.img[index,:,:]).convert('RGB')\n",
    "        \n",
    "        if self.transform is not None:\n",
    "            img = self.transform(img)\n",
    "\n",
    "        return img, (self.keypoint[index] - 96.0) / 96.0\n",
    "\n",
    "    def __len__(self):\n",
    "        return len(self.img)\n",
    "    \n",
    "    \n",
    "class WingLoss(nn.Module):\n",
    "\n",
    "    def __init__(self, wing_w=10.0, wing_epsilon=2.0):\n",
    "        super(WingLoss, self).__init__()\n",
    "        self.wing_w = wing_w\n",
    "        self.wing_epsilon = wing_epsilon\n",
    "        self.wing_c = self.wing_w * (1.0 - math.log(1.0 + self.wing_w / self.wing_epsilon))\n",
    "\n",
    "    def forward(self, targets, predictions, euler_angle_weights=None):\n",
    "        abs_error = torch.abs(targets - predictions)\n",
    "        loss = torch.where(torch.le(abs_error, self.wing_w),\n",
    "                           self.wing_w * torch.log(1.0 + abs_error / self.wing_epsilon), abs_error - self.wing_c)\n",
    "        loss_sum = torch.sum(loss, 1)\n",
    "        if euler_angle_weights is not None:\n",
    "            loss_sum *= euler_angle_weights\n",
    "        return torch.mean(loss_sum)"
   ]
  },
  {
   "cell_type": "code",
   "execution_count": 16,
   "metadata": {
    "scrolled": true
   },
   "outputs": [
    {
     "name": "stdout",
     "output_type": "stream",
     "text": [
      "[    0     1     2 ... 28794 28795 28796]\n",
      "Epoch:  0\n",
      "2.582261323928833\n",
      "2.4512734413146973\n",
      "2.436228036880493\n",
      "1.7453076839447021\n",
      "1.701219081878662\n",
      "1.8597807884216309\n",
      "1.5462820529937744\n",
      "1.4478613138198853\n",
      "1.3766098022460938\n",
      "1.3386259078979492\n",
      "1.4706954956054688\n",
      "Val 3.6670450572754865\n",
      "Epoch:  1\n",
      "1.1582984924316406\n",
      "1.4221023321151733\n",
      "1.337367057800293\n",
      "1.1093602180480957\n",
      "1.2150065898895264\n",
      "1.1791526079177856\n",
      "1.146264672279358\n",
      "1.0871273279190063\n",
      "1.1801494359970093\n",
      "0.973814070224762\n",
      "1.2379060983657837\n",
      "Val 2.582156415671346\n",
      "Epoch:  2\n",
      "1.0962378978729248\n",
      "1.2922881841659546\n",
      "0.9709797501564026\n",
      "1.0104061365127563\n",
      "0.9340394139289856\n",
      "0.9586074352264404\n",
      "1.3289000988006592\n",
      "1.280418038368225\n",
      "0.9959812760353088\n",
      "1.0762490034103394\n",
      "1.0832655429840088\n",
      "Val 2.7515032164079694\n",
      "Epoch:  3\n",
      "0.8357096910476685\n",
      "0.9748367071151733\n",
      "0.9340300559997559\n",
      "1.0041629076004028\n",
      "0.9521289467811584\n",
      "0.8640638589859009\n",
      "1.0385782718658447\n",
      "0.9976063370704651\n",
      "0.8601639866828918\n",
      "0.8577284812927246\n",
      "0.9785712361335754\n",
      "Val 2.396827298790098\n",
      "Epoch:  4\n",
      "0.8103248476982117\n",
      "0.8167893886566162\n",
      "0.8302743434906006\n",
      "0.8329852223396301\n",
      "0.8469656705856323\n",
      "0.7441678643226624\n",
      "0.8275925517082214\n",
      "0.853583812713623\n",
      "0.7463975548744202\n",
      "0.8122654557228088\n",
      "0.8307339549064636\n",
      "Val 2.2400692263746125\n",
      "Epoch:  5\n",
      "0.795353353023529\n",
      "0.9952508211135864\n",
      "0.8210597038269043\n",
      "0.7991116642951965\n",
      "0.78564453125\n",
      "0.9348019957542419\n",
      "0.7993049621582031\n",
      "0.7650711536407471\n",
      "0.7479458451271057\n",
      "0.7819552421569824\n",
      "0.7427711486816406\n",
      "Val 2.356146045639397\n",
      "Epoch:  6\n",
      "0.6792172789573669\n",
      "0.6684524416923523\n",
      "0.6033443212509155\n",
      "0.6853631734848022\n",
      "0.6515340209007263\n",
      "0.7337092161178589\n",
      "0.5965369939804077\n",
      "0.7370710372924805\n",
      "0.6248531937599182\n",
      "0.6036332249641418\n",
      "0.9880491495132446\n",
      "Val 2.3128467217011437\n",
      "Epoch:  7\n",
      "0.7161945104598999\n",
      "0.6240604519844055\n",
      "0.6719432473182678\n",
      "0.7192686796188354\n",
      "0.629904568195343\n",
      "0.6430994868278503\n",
      "0.6890121102333069\n",
      "0.5338558554649353\n",
      "0.6081209778785706\n",
      "0.6813024878501892\n",
      "0.6715518236160278\n",
      "Val 2.243213139742494\n",
      "Epoch:  8\n",
      "0.6672559976577759\n",
      "0.5621131658554077\n",
      "0.5524100661277771\n",
      "0.48845386505126953\n",
      "0.7527021765708923\n",
      "0.5834393501281738\n",
      "0.597954273223877\n",
      "0.5341500043869019\n",
      "0.6283730864524841\n",
      "0.5669934153556824\n",
      "0.6532345414161682\n",
      "Val 2.1340383140229715\n",
      "Epoch:  9\n",
      "0.4845595061779022\n",
      "0.5566878318786621\n",
      "0.5200759172439575\n",
      "0.582257866859436\n",
      "0.5031112432479858\n",
      "0.5796014070510864\n",
      "0.5336814522743225\n",
      "0.550412118434906\n",
      "0.5209037065505981\n",
      "0.4747239649295807\n",
      "0.5229519009590149\n",
      "Val 2.001803152897317\n",
      "[28797 28798 28799 ... 57591 57592 57593]\n",
      "Epoch:  0\n",
      "2.534236431121826\n",
      "1.709391713142395\n",
      "1.6919814348220825\n",
      "1.3505462408065796\n",
      "1.1981987953186035\n",
      "1.6356171369552612\n",
      "1.4643781185150146\n",
      "1.3704700469970703\n",
      "1.1281417608261108\n",
      "1.2076911926269531\n",
      "1.2100279331207275\n",
      "Val 3.0894905390190344\n",
      "Epoch:  1\n",
      "1.192891001701355\n",
      "1.1864651441574097\n",
      "1.1656585931777954\n",
      "1.1451174020767212\n",
      "1.1696226596832275\n",
      "1.0589568614959717\n",
      "1.1567243337631226\n",
      "1.1471482515335083\n",
      "1.0273610353469849\n",
      "0.8780935406684875\n",
      "1.017928123474121\n",
      "Val 3.0642545644344694\n",
      "Epoch:  2\n",
      "0.8979904651641846\n",
      "0.9202437996864319\n",
      "0.9828372597694397\n",
      "0.7902265787124634\n",
      "0.8790521621704102\n",
      "1.0362248420715332\n",
      "0.9149320721626282\n",
      "0.8648015260696411\n",
      "0.8322187662124634\n",
      "0.7973068356513977\n",
      "0.7290343046188354\n",
      "Val 2.332374829930221\n",
      "Epoch:  3\n",
      "0.8385640382766724\n",
      "0.9635915756225586\n",
      "0.8240584135055542\n",
      "0.8359293937683105\n",
      "0.8705141544342041\n",
      "0.7943537831306458\n",
      "0.7558284401893616\n",
      "1.0083391666412354\n",
      "0.7612084746360779\n",
      "0.7604052424430847\n",
      "0.7148993015289307\n",
      "Val 2.3464727513025254\n",
      "Epoch:  4\n",
      "0.7396504282951355\n",
      "0.7721985578536987\n",
      "0.6645947098731995\n",
      "0.7424812316894531\n",
      "0.8789141774177551\n",
      "0.6773617267608643\n",
      "0.6522961258888245\n",
      "0.7019913792610168\n",
      "0.7185850143432617\n",
      "0.6593644618988037\n",
      "0.7441955208778381\n",
      "Val 2.3680314276302146\n",
      "Epoch:  5\n",
      "0.6252660751342773\n",
      "0.6489933133125305\n",
      "0.6006770133972168\n",
      "0.5790870785713196\n",
      "0.5893747806549072\n",
      "0.5506289601325989\n",
      "0.5496153235435486\n",
      "0.7160825729370117\n",
      "0.625710129737854\n",
      "0.724365234375\n",
      "0.5563172101974487\n",
      "Val 2.187703197208816\n",
      "Epoch:  6\n",
      "0.5777139663696289\n",
      "0.5913411378860474\n",
      "0.6818283200263977\n",
      "0.6139959096908569\n",
      "0.5656916499137878\n",
      "0.5654278993606567\n",
      "0.6128527522087097\n",
      "0.5533748269081116\n",
      "0.6238682866096497\n",
      "0.627178966999054\n",
      "0.6171432137489319\n",
      "Val 2.059002950740885\n",
      "Epoch:  7\n",
      "0.4588547348976135\n",
      "0.49815431237220764\n",
      "0.5297224521636963\n",
      "0.5510274171829224\n",
      "0.5121911764144897\n",
      "0.4649616479873657\n",
      "0.5329210758209229\n",
      "0.6161265969276428\n",
      "0.5516483783721924\n",
      "0.5334388017654419\n",
      "0.49900636076927185\n",
      "Val 2.1180181456118197\n",
      "Epoch:  8\n",
      "0.5231663584709167\n",
      "0.5022704005241394\n",
      "0.47865739464759827\n",
      "0.5606094002723694\n",
      "0.49519872665405273\n",
      "0.4360010325908661\n",
      "0.5146971344947815\n",
      "0.44654691219329834\n",
      "0.43952491879463196\n",
      "0.5242979526519775\n",
      "0.493476539850235\n",
      "Val 1.8347347911313316\n",
      "Epoch:  9\n",
      "0.49450498819351196\n",
      "0.3917345404624939\n",
      "0.5412254333496094\n",
      "0.5189611315727234\n",
      "0.46058765053749084\n",
      "0.43285033106803894\n",
      "0.4366699159145355\n",
      "0.41865861415863037\n",
      "0.4096095860004425\n",
      "0.40293556451797485\n",
      "0.43097296357154846\n",
      "Val 1.9309144946256067\n",
      "[57594 57595 57596 ... 86388 86389 86390]\n",
      "Epoch:  0\n",
      "2.6492691040039062\n",
      "1.9453506469726562\n",
      "1.8608659505844116\n",
      "1.7937796115875244\n",
      "1.483384370803833\n",
      "1.5760422945022583\n",
      "1.2993698120117188\n",
      "1.3972502946853638\n",
      "1.2896287441253662\n",
      "1.3481135368347168\n",
      "1.1064544916152954\n",
      "Val 5.437584109825211\n",
      "Epoch:  1\n",
      "1.1540015935897827\n",
      "1.011602520942688\n",
      "1.322195291519165\n",
      "1.3148506879806519\n",
      "1.087457537651062\n",
      "1.0460296869277954\n",
      "1.150598406791687\n",
      "0.9230544567108154\n",
      "1.3567687273025513\n",
      "1.0407581329345703\n",
      "0.9985753893852234\n",
      "Val 2.624020671019875\n",
      "Epoch:  2\n",
      "0.9484283328056335\n",
      "1.0439131259918213\n",
      "0.9999403953552246\n",
      "1.1841217279434204\n",
      "0.9330324530601501\n",
      "0.9742666482925415\n",
      "1.0117913484573364\n",
      "1.0281717777252197\n",
      "0.9067500233650208\n",
      "1.0015361309051514\n",
      "1.055937647819519\n",
      "Val 3.106104184584207\n",
      "Epoch:  3\n",
      "0.904446005821228\n",
      "0.9376681447029114\n",
      "0.8312567472457886\n",
      "0.9184220433235168\n",
      "0.8600355386734009\n",
      "0.8005001544952393\n",
      "1.1421072483062744\n",
      "0.8922612071037292\n",
      "0.8872030377388\n",
      "0.9761226177215576\n",
      "0.7631943225860596\n",
      "Val 2.412982120750508\n",
      "Epoch:  4\n",
      "0.9075484275817871\n",
      "0.8071777820587158\n",
      "0.7104855179786682\n",
      "0.6943383812904358\n",
      "0.7722195982933044\n",
      "0.755622923374176\n",
      "0.6264188885688782\n",
      "0.6336964964866638\n",
      "0.7646543979644775\n",
      "0.6964318752288818\n",
      "0.7822209596633911\n",
      "Val 2.4835500071231893\n",
      "Epoch:  5\n",
      "0.7341902852058411\n",
      "0.6036317944526672\n",
      "0.7732915282249451\n",
      "0.8921691179275513\n",
      "0.7193315625190735\n",
      "0.6895588636398315\n",
      "0.6597024202346802\n",
      "0.7573463916778564\n",
      "0.6961050033569336\n",
      "0.8617368340492249\n",
      "0.6067447662353516\n",
      "Val 2.3911101148743503\n",
      "Epoch:  6\n",
      "0.7736203074455261\n",
      "0.8261920213699341\n",
      "0.8058142066001892\n",
      "0.6825501322746277\n",
      "0.679574191570282\n",
      "0.627443253993988\n",
      "0.5771981477737427\n",
      "0.6252489686012268\n",
      "0.7095295786857605\n",
      "0.6894629001617432\n",
      "0.620371401309967\n",
      "Val 2.4567211362793056\n",
      "Epoch:  7\n",
      "0.6879897117614746\n",
      "0.6613236665725708\n",
      "0.6040300726890564\n",
      "0.6178411841392517\n",
      "0.6268803477287292\n",
      "0.7134459018707275\n",
      "0.6261143088340759\n",
      "0.6640955805778503\n",
      "0.6607630848884583\n",
      "0.7139819264411926\n",
      "0.5627785921096802\n",
      "Val 2.173058461789272\n",
      "Epoch:  8\n",
      "0.5639523267745972\n",
      "0.581724226474762\n",
      "0.639922559261322\n",
      "0.5548900961875916\n",
      "0.6285929679870605\n",
      "0.5386091470718384\n",
      "0.6281758546829224\n",
      "0.5328066349029541\n",
      "0.5090760588645935\n",
      "0.532105028629303\n",
      "0.568385899066925\n",
      "Val 2.088021977907447\n",
      "Epoch:  9\n",
      "0.5753589868545532\n",
      "0.5578613877296448\n",
      "0.5549872517585754\n",
      "0.5101005434989929\n",
      "0.5162627100944519\n",
      "0.47882211208343506\n",
      "0.5173027515411377\n",
      "0.5078551173210144\n",
      "0.5530129075050354\n",
      "0.4592251181602478\n",
      "0.5301931500434875\n",
      "Val 2.049836060670707\n",
      "[ 86391  86392  86393 ... 115185 115186 115187]\n",
      "Epoch:  0\n",
      "2.7371835708618164\n",
      "2.00339937210083\n",
      "1.8533005714416504\n",
      "1.8103710412979126\n",
      "1.4256482124328613\n",
      "1.6820565462112427\n",
      "1.505028486251831\n",
      "1.7754147052764893\n",
      "1.4651663303375244\n",
      "1.3355828523635864\n",
      "1.6505175828933716\n",
      "Val 3.453480289896718\n",
      "Epoch:  1\n",
      "1.1278116703033447\n",
      "1.30078125\n",
      "1.144956111907959\n",
      "1.2317365407943726\n",
      "1.0844690799713135\n",
      "1.062421202659607\n",
      "1.0753363370895386\n",
      "1.040202021598816\n",
      "0.8033236265182495\n",
      "1.0296629667282104\n",
      "0.908271312713623\n",
      "Val 2.8313026199622926\n",
      "Epoch:  2\n",
      "0.9723756313323975\n",
      "0.950398325920105\n",
      "0.9389742612838745\n",
      "0.9243417382240295\n",
      "0.9342259168624878\n",
      "0.990345299243927\n",
      "0.9087417125701904\n",
      "1.0253537893295288\n",
      "1.0055683851242065\n",
      "0.9408413767814636\n",
      "0.7685214281082153\n",
      "Val 2.5664832213347566\n",
      "Epoch:  3\n",
      "0.9602609276771545\n",
      "0.8642596006393433\n",
      "0.7561296820640564\n",
      "1.074238657951355\n",
      "0.7002183198928833\n"
     ]
    },
    {
     "name": "stdout",
     "output_type": "stream",
     "text": [
      "0.9306113719940186\n",
      "0.8565680980682373\n",
      "0.8517864942550659\n",
      "0.8921642303466797\n",
      "0.7235832214355469\n",
      "0.9562203884124756\n",
      "Val 2.501021110149283\n",
      "Epoch:  4\n",
      "0.6890254020690918\n",
      "0.6455858945846558\n",
      "0.7553024291992188\n",
      "0.9304329752922058\n",
      "0.6836338639259338\n",
      "0.7536076307296753\n",
      "0.6160030364990234\n",
      "0.689404308795929\n",
      "0.6429165005683899\n",
      "0.912403404712677\n",
      "0.7040455937385559\n",
      "Val 2.5536317994085653\n",
      "Epoch:  5\n",
      "0.6536217331886292\n",
      "0.6544385552406311\n",
      "0.7129883170127869\n",
      "0.5896115899085999\n",
      "0.6050411462783813\n",
      "0.558376133441925\n",
      "0.6709876656532288\n",
      "0.6449893712997437\n",
      "0.627875566482544\n",
      "0.7912086844444275\n",
      "0.7146549224853516\n",
      "Val 2.3511070489855634\n",
      "Epoch:  6\n",
      "0.6018936038017273\n",
      "0.656743586063385\n",
      "0.6744210720062256\n",
      "0.5275197625160217\n",
      "0.6530978083610535\n",
      "0.5245451331138611\n",
      "0.530369222164154\n",
      "0.5119867920875549\n",
      "0.6030167937278748\n",
      "0.5537382960319519\n",
      "0.6181178092956543\n",
      "Val 2.137374710613184\n",
      "Epoch:  7\n",
      "0.5885475277900696\n",
      "0.514683723449707\n",
      "0.6327065229415894\n",
      "0.5220942497253418\n",
      "0.5046936869621277\n",
      "0.579708456993103\n",
      "0.47367674112319946\n",
      "0.5452892780303955\n",
      "0.5620706677436829\n",
      "0.6205474138259888\n",
      "0.5568481087684631\n",
      "Val 2.1862382124316344\n",
      "Epoch:  8\n",
      "0.5195713639259338\n",
      "0.49341708421707153\n",
      "0.5849369168281555\n",
      "0.5404908061027527\n",
      "0.5090900659561157\n",
      "0.4898696541786194\n",
      "0.44381216168403625\n",
      "0.5930293798446655\n",
      "0.39568689465522766\n",
      "0.5988959074020386\n",
      "0.4614201486110687\n",
      "Val 2.097089441627449\n",
      "Epoch:  9\n",
      "0.4787558913230896\n",
      "0.5371830463409424\n",
      "0.4683869183063507\n",
      "0.4920407831668854\n",
      "0.4899575710296631\n",
      "0.4495314061641693\n",
      "0.5273476839065552\n",
      "0.44784170389175415\n",
      "0.4503696858882904\n",
      "0.4151783585548401\n",
      "0.4643701910972595\n",
      "Val 2.002024106661258\n",
      "[115188 115189 115190 ... 143982 143983 143984]\n",
      "Epoch:  0\n",
      "2.2466368675231934\n",
      "2.0832788944244385\n",
      "1.7772585153579712\n",
      "1.535926342010498\n",
      "1.2748141288757324\n",
      "1.527683973312378\n",
      "1.338876485824585\n",
      "1.7421871423721313\n",
      "1.304840326309204\n",
      "1.1124035120010376\n",
      "1.378978967666626\n",
      "Val 2.8987405761295744\n",
      "Epoch:  1\n",
      "1.1248663663864136\n",
      "1.396840214729309\n",
      "1.0814318656921387\n",
      "1.2469604015350342\n",
      "1.0975642204284668\n",
      "1.013451337814331\n",
      "0.8872053623199463\n",
      "1.345894694328308\n",
      "1.0245788097381592\n",
      "0.8986762762069702\n",
      "0.9751055836677551\n",
      "Val 2.8831733591598168\n",
      "Epoch:  2\n",
      "0.884327232837677\n",
      "0.9234031438827515\n",
      "0.9359046816825867\n",
      "1.0591716766357422\n",
      "1.2240582704544067\n",
      "0.8207177519798279\n",
      "0.876531720161438\n",
      "0.8122724890708923\n",
      "0.9348359704017639\n",
      "0.9578768014907837\n",
      "0.9251676797866821\n",
      "Val 2.400269055624585\n",
      "Epoch:  3\n",
      "0.8320340514183044\n",
      "0.8895010352134705\n",
      "0.8840640187263489\n",
      "0.940590500831604\n",
      "0.9298387169837952\n",
      "0.7043825387954712\n",
      "0.7444115877151489\n",
      "0.9835023880004883\n",
      "0.7650105953216553\n",
      "0.8559960722923279\n",
      "0.723275899887085\n",
      "Val 2.5714679060821397\n",
      "Epoch:  4\n",
      "0.6226935386657715\n",
      "0.6734318137168884\n",
      "0.7999398708343506\n",
      "0.7189564108848572\n",
      "0.7663934230804443\n",
      "0.7581561207771301\n",
      "0.7093152403831482\n",
      "0.6695187091827393\n",
      "0.6756366491317749\n",
      "0.757746696472168\n",
      "0.7002487182617188\n",
      "Val 2.444676164550693\n",
      "Epoch:  5\n",
      "0.625284731388092\n",
      "0.6766268610954285\n",
      "0.7344353199005127\n",
      "0.6150439381599426\n",
      "0.7954987287521362\n",
      "0.6456573605537415\n",
      "0.6735213994979858\n",
      "0.6329743266105652\n",
      "0.6279524564743042\n",
      "0.5988582372665405\n",
      "0.6558039784431458\n",
      "Val 2.1751253138856685\n",
      "Epoch:  6\n",
      "0.5531793236732483\n",
      "0.6025055646896362\n",
      "0.6104637980461121\n",
      "0.5220583081245422\n",
      "0.4973011612892151\n",
      "0.6414684057235718\n",
      "0.6126493811607361\n",
      "0.5557754635810852\n",
      "0.5948129296302795\n",
      "0.5461778044700623\n",
      "0.6873795986175537\n",
      "Val 2.184775525605197\n",
      "Epoch:  7\n",
      "0.510595977306366\n",
      "0.5500501394271851\n",
      "0.6477367281913757\n",
      "0.5055357813835144\n",
      "0.5344775915145874\n",
      "0.49706777930259705\n",
      "0.564578652381897\n",
      "0.5491458773612976\n",
      "0.5542190074920654\n",
      "0.5709258317947388\n",
      "0.48058849573135376\n",
      "Val 2.089836387427045\n",
      "Epoch:  8\n",
      "0.563579797744751\n",
      "0.49183622002601624\n",
      "0.5029966831207275\n",
      "0.42615973949432373\n",
      "0.44495880603790283\n",
      "0.5226471424102783\n",
      "0.5002257823944092\n",
      "0.5404960513114929\n",
      "0.4939417839050293\n",
      "0.5779966115951538\n",
      "0.48736321926116943\n",
      "Val 2.0997902852138726\n",
      "Epoch:  9\n",
      "0.5951119661331177\n",
      "0.42597678303718567\n",
      "0.5415447354316711\n",
      "0.42990460991859436\n",
      "0.4612548351287842\n",
      "0.43136903643608093\n",
      "0.4647928774356842\n",
      "0.4570032060146332\n",
      "0.520115315914154\n",
      "0.466990202665329\n",
      "0.7792538404464722\n",
      "Val 1.9166376141596273\n"
     ]
    }
   ],
   "source": [
    "import copy\n",
    "\n",
    "kfold = KFold(n_splits=5)\n",
    "fold = 0\n",
    "for tr_idx, val_idx, in kfold.split([1]*aug_imgs.shape[0]):\n",
    "    model = copy.deepcopy(net).cuda()\n",
    "    print(val_idx)\n",
    "\n",
    "    train_loader = torch.utils.data.DataLoader(\n",
    "        XunFeiDataset(aug_imgs[tr_idx,:,:],  aug_points[tr_idx],\n",
    "                      transforms.Compose([\n",
    "                            transforms.ToTensor(),\n",
    "                            transforms.Normalize(mean=[0.485, 0.456, 0.406],std=[0.229, 0.224, 0.225])\n",
    "            ])),\n",
    "        batch_size=100, shuffle=True, num_workers=5,\n",
    "    )\n",
    "\n",
    "    val_loader = torch.utils.data.DataLoader(\n",
    "        XunFeiDataset(aug_imgs[val_idx,:,:], aug_points[val_idx], \n",
    "                      transforms.Compose([\n",
    "                            transforms.ToTensor(),\n",
    "                            transforms.Normalize(mean=[0.485, 0.456, 0.406],std=[0.229, 0.224, 0.225])\n",
    "            ])\n",
    "        ),\n",
    "        batch_size=70, shuffle=False, num_workers=5,\n",
    "    )\n",
    "\n",
    "    criterion = WingLoss()\n",
    "    optimizer = torch.optim.Adam(model.parameters(), 0.0008)\n",
    "    scheduler = optim.lr_scheduler.StepLR(optimizer, step_size=2, gamma=0.85)\n",
    "    best_acc = 0.0\n",
    "\n",
    "    for epoch in range(10):\n",
    "        print('Epoch: ', epoch)\n",
    "\n",
    "        train(train_loader, model, criterion, optimizer, epoch)\n",
    "\n",
    "        val_feats = validate(val_loader, model)\n",
    "        scheduler.step()\n",
    "        \n",
    "        val_feats = np.vstack(val_feats) * 96 + 96\n",
    "        print('Val', mean_absolute_error(val_feats, aug_points[val_idx]))\n",
    "    \n",
    "    torch.save(model.state_dict(), 'model_{0}.pt'.format(fold))\n",
    "    fold += 1"
   ]
  },
  {
   "cell_type": "code",
   "execution_count": 12,
   "metadata": {},
   "outputs": [],
   "source": [
    "test = []\n",
    "model = net.cuda()\n",
    "h = 192\n",
    "w = 192\n",
    "for k1 in range(test_img.shape[-1]):\n",
    "    image = cv2.resize(test_img[:,:,k1], (h, w)).astype(np.uint8)\n",
    "    test.append(image)\n",
    "    \n",
    "test_scale = np.array(test)\n",
    "\n",
    "test_loader = torch.utils.data.DataLoader(\n",
    "    XunFeiDataset(test_scale, torch.ones((2049, 8)),\n",
    "                    transforms.Compose([\n",
    "                        transforms.ToTensor(),\n",
    "                        transforms.Normalize(mean=[0.485, 0.456, 0.406],std=[0.229, 0.224, 0.225])\n",
    "        ])\n",
    "    ),\n",
    "    batch_size=10, shuffle=False, num_workers=5,\n",
    ")"
   ]
  },
  {
   "cell_type": "code",
   "execution_count": 13,
   "metadata": {},
   "outputs": [
    {
     "name": "stderr",
     "output_type": "stream",
     "text": [
      "/home/fqh/anaconda3/lib/python3.6/site-packages/ipykernel_launcher.py:8: UserWarning: This overload of cuda is deprecated:\n",
      "\tcuda(torch.device device, bool async, *, torch.memory_format memory_format)\n",
      "Consider using one of the following signatures instead:\n",
      "\tcuda(torch.device device, bool non_blocking, *, torch.memory_format memory_format) (Triggered internally at  /opt/conda/conda-bld/pytorch_1607370193460/work/torch/csrc/utils/python_arg_parser.cpp:882.)\n",
      "  \n"
     ]
    },
    {
     "name": "stdout",
     "output_type": "stream",
     "text": [
      "model_0.pt\n",
      "model_1.pt\n",
      "model_2.pt\n",
      "model_3.pt\n",
      "model_4.pt\n"
     ]
    }
   ],
   "source": [
    "pred_tta = []\n",
    "for path in ['model_0.pt','model_1.pt','model_2.pt','model_3.pt','model_4.pt']:\n",
    "    pred = []\n",
    "    model.load_state_dict(torch.load(path))\n",
    "    model.eval()\n",
    "    with torch.no_grad():\n",
    "        for t, (x, y) in enumerate(test_loader):\n",
    "            x_var = Variable(x).cuda(async=True)\n",
    "            y_var = Variable(y).cuda()\n",
    "            scores = model(x_var)\n",
    "            pred.append(scores.data.cpu().numpy())\n",
    "    pred = np.concatenate(pred, 0)    \n",
    "    print(path)\n",
    "    pred_tta.append(pred)\n",
    "\n",
    "# pred = np.mean(pred_tta, axis=0)"
   ]
  },
  {
   "cell_type": "code",
   "execution_count": 41,
   "metadata": {},
   "outputs": [],
   "source": [
    "pred = 0.25 * pred_tta[0] + 0.15 * pred_tta[1] + 0.25 * pred_tta[2] + 0.15 * pred_tta[3] + 0.2 * pred_tta[4]\n",
    "# pred = pred_tta[4]"
   ]
  },
  {
   "cell_type": "code",
   "execution_count": 42,
   "metadata": {},
   "outputs": [
    {
     "data": {
      "text/html": [
       "<div>\n",
       "<style scoped>\n",
       "    .dataframe tbody tr th:only-of-type {\n",
       "        vertical-align: middle;\n",
       "    }\n",
       "\n",
       "    .dataframe tbody tr th {\n",
       "        vertical-align: top;\n",
       "    }\n",
       "\n",
       "    .dataframe thead th {\n",
       "        text-align: right;\n",
       "    }\n",
       "</style>\n",
       "<table border=\"1\" class=\"dataframe\">\n",
       "  <thead>\n",
       "    <tr style=\"text-align: right;\">\n",
       "      <th></th>\n",
       "      <th>left_eye_center_x</th>\n",
       "      <th>left_eye_center_y</th>\n",
       "      <th>right_eye_center_x</th>\n",
       "      <th>right_eye_center_y</th>\n",
       "      <th>nose_tip_x</th>\n",
       "      <th>nose_tip_y</th>\n",
       "      <th>mouth_center_bottom_lip_x</th>\n",
       "      <th>mouth_center_bottom_lip_y</th>\n",
       "    </tr>\n",
       "  </thead>\n",
       "  <tbody>\n",
       "    <tr>\n",
       "      <th>0</th>\n",
       "      <td>130.773041</td>\n",
       "      <td>79.528725</td>\n",
       "      <td>69.846596</td>\n",
       "      <td>75.366844</td>\n",
       "      <td>100.243080</td>\n",
       "      <td>121.385300</td>\n",
       "      <td>96.978706</td>\n",
       "      <td>148.309494</td>\n",
       "    </tr>\n",
       "    <tr>\n",
       "      <th>1</th>\n",
       "      <td>126.580780</td>\n",
       "      <td>71.790031</td>\n",
       "      <td>62.071060</td>\n",
       "      <td>72.100113</td>\n",
       "      <td>91.295502</td>\n",
       "      <td>111.677216</td>\n",
       "      <td>93.346535</td>\n",
       "      <td>153.718628</td>\n",
       "    </tr>\n",
       "    <tr>\n",
       "      <th>2</th>\n",
       "      <td>131.161316</td>\n",
       "      <td>69.986763</td>\n",
       "      <td>60.380394</td>\n",
       "      <td>84.139687</td>\n",
       "      <td>101.927513</td>\n",
       "      <td>130.355423</td>\n",
       "      <td>107.143669</td>\n",
       "      <td>153.477493</td>\n",
       "    </tr>\n",
       "    <tr>\n",
       "      <th>3</th>\n",
       "      <td>140.179779</td>\n",
       "      <td>72.200317</td>\n",
       "      <td>55.600189</td>\n",
       "      <td>69.314774</td>\n",
       "      <td>97.466705</td>\n",
       "      <td>121.918076</td>\n",
       "      <td>97.029327</td>\n",
       "      <td>149.830246</td>\n",
       "    </tr>\n",
       "    <tr>\n",
       "      <th>4</th>\n",
       "      <td>124.129456</td>\n",
       "      <td>77.535599</td>\n",
       "      <td>63.957924</td>\n",
       "      <td>70.589523</td>\n",
       "      <td>105.786652</td>\n",
       "      <td>128.207779</td>\n",
       "      <td>97.084808</td>\n",
       "      <td>152.571289</td>\n",
       "    </tr>\n",
       "    <tr>\n",
       "      <th>...</th>\n",
       "      <td>...</td>\n",
       "      <td>...</td>\n",
       "      <td>...</td>\n",
       "      <td>...</td>\n",
       "      <td>...</td>\n",
       "      <td>...</td>\n",
       "      <td>...</td>\n",
       "      <td>...</td>\n",
       "    </tr>\n",
       "    <tr>\n",
       "      <th>2044</th>\n",
       "      <td>127.922989</td>\n",
       "      <td>85.169647</td>\n",
       "      <td>63.943394</td>\n",
       "      <td>78.128136</td>\n",
       "      <td>104.868431</td>\n",
       "      <td>125.890175</td>\n",
       "      <td>103.908867</td>\n",
       "      <td>159.701202</td>\n",
       "    </tr>\n",
       "    <tr>\n",
       "      <th>2045</th>\n",
       "      <td>102.228065</td>\n",
       "      <td>9.811653</td>\n",
       "      <td>22.356659</td>\n",
       "      <td>17.193588</td>\n",
       "      <td>62.710083</td>\n",
       "      <td>71.894684</td>\n",
       "      <td>64.532249</td>\n",
       "      <td>105.400703</td>\n",
       "    </tr>\n",
       "    <tr>\n",
       "      <th>2046</th>\n",
       "      <td>134.446182</td>\n",
       "      <td>80.280083</td>\n",
       "      <td>62.128845</td>\n",
       "      <td>78.695938</td>\n",
       "      <td>98.997200</td>\n",
       "      <td>136.325134</td>\n",
       "      <td>98.737961</td>\n",
       "      <td>159.164886</td>\n",
       "    </tr>\n",
       "    <tr>\n",
       "      <th>2047</th>\n",
       "      <td>135.167206</td>\n",
       "      <td>73.673454</td>\n",
       "      <td>61.125725</td>\n",
       "      <td>72.824326</td>\n",
       "      <td>99.941330</td>\n",
       "      <td>119.992760</td>\n",
       "      <td>98.452995</td>\n",
       "      <td>150.648590</td>\n",
       "    </tr>\n",
       "    <tr>\n",
       "      <th>2048</th>\n",
       "      <td>131.053070</td>\n",
       "      <td>72.863632</td>\n",
       "      <td>59.879547</td>\n",
       "      <td>75.665482</td>\n",
       "      <td>99.298683</td>\n",
       "      <td>119.884697</td>\n",
       "      <td>100.722160</td>\n",
       "      <td>149.413742</td>\n",
       "    </tr>\n",
       "  </tbody>\n",
       "</table>\n",
       "<p>2049 rows × 8 columns</p>\n",
       "</div>"
      ],
      "text/plain": [
       "      left_eye_center_x  left_eye_center_y  right_eye_center_x  \\\n",
       "0            130.773041          79.528725           69.846596   \n",
       "1            126.580780          71.790031           62.071060   \n",
       "2            131.161316          69.986763           60.380394   \n",
       "3            140.179779          72.200317           55.600189   \n",
       "4            124.129456          77.535599           63.957924   \n",
       "...                 ...                ...                 ...   \n",
       "2044         127.922989          85.169647           63.943394   \n",
       "2045         102.228065           9.811653           22.356659   \n",
       "2046         134.446182          80.280083           62.128845   \n",
       "2047         135.167206          73.673454           61.125725   \n",
       "2048         131.053070          72.863632           59.879547   \n",
       "\n",
       "      right_eye_center_y  nose_tip_x  nose_tip_y  mouth_center_bottom_lip_x  \\\n",
       "0              75.366844  100.243080  121.385300                  96.978706   \n",
       "1              72.100113   91.295502  111.677216                  93.346535   \n",
       "2              84.139687  101.927513  130.355423                 107.143669   \n",
       "3              69.314774   97.466705  121.918076                  97.029327   \n",
       "4              70.589523  105.786652  128.207779                  97.084808   \n",
       "...                  ...         ...         ...                        ...   \n",
       "2044           78.128136  104.868431  125.890175                 103.908867   \n",
       "2045           17.193588   62.710083   71.894684                  64.532249   \n",
       "2046           78.695938   98.997200  136.325134                  98.737961   \n",
       "2047           72.824326   99.941330  119.992760                  98.452995   \n",
       "2048           75.665482   99.298683  119.884697                 100.722160   \n",
       "\n",
       "      mouth_center_bottom_lip_y  \n",
       "0                    148.309494  \n",
       "1                    153.718628  \n",
       "2                    153.477493  \n",
       "3                    149.830246  \n",
       "4                    152.571289  \n",
       "...                         ...  \n",
       "2044                 159.701202  \n",
       "2045                 105.400703  \n",
       "2046                 159.164886  \n",
       "2047                 150.648590  \n",
       "2048                 149.413742  \n",
       "\n",
       "[2049 rows x 8 columns]"
      ]
     },
     "execution_count": 42,
     "metadata": {},
     "output_type": "execute_result"
    }
   ],
   "source": [
    "col = ['left_eye_center_x', 'left_eye_center_y', 'right_eye_center_x',\n",
    " 'right_eye_center_y', 'nose_tip_x', 'nose_tip_y', \n",
    " 'mouth_center_bottom_lip_x','mouth_center_bottom_lip_y']\n",
    "# pd.DataFrame(pred * 96, columns=col).to_csv('submit.csv', index=None)\n",
    "pd.DataFrame(pred * 96 + 96, columns=col)"
   ]
  },
  {
   "cell_type": "code",
   "execution_count": 43,
   "metadata": {},
   "outputs": [],
   "source": [
    "test_imgs = []\n",
    "test_points = []\n",
    "for i in range(len(test)):\n",
    "    aug1, pnt1 = scale(test[i], pred[i]*96+96, 0.5)\n",
    "    test_imgs.append(aug1)\n",
    "    test_points.append(pnt1)\n"
   ]
  },
  {
   "cell_type": "code",
   "execution_count": 44,
   "metadata": {},
   "outputs": [
    {
     "data": {
      "image/png": "[encoded data removed]",
      "text/plain": [
       "<Figure size 432x288 with 1 Axes>"
      ]
     },
     "metadata": {
      "needs_background": "light"
     },
     "output_type": "display_data"
    }
   ],
   "source": [
    "for (x, y) in np.array(test_points[2045]).reshape(-1,2):\n",
    "    plt.scatter(int(x), int(y), c='r')\n",
    "\n",
    "plt.imshow(test_imgs[2045], cmap='gray')\n",
    "plt.show()"
   ]
  },
  {
   "cell_type": "code",
   "execution_count": 20,
   "metadata": {
    "scrolled": true
   },
   "outputs": [
    {
     "name": "stderr",
     "output_type": "stream",
     "text": [
      "\n",
      "Bad key text.latex.unicode in file /home/fqh/anaconda3/lib/python3.6/site-packages/matplotlib/mpl-data/stylelib/_classic_test.mplstyle, line 112 ('text.latex.unicode : False # use \"ucs\" and \"inputenc\" LaTeX packages for handling')\n",
      "You probably need to get an updated matplotlibrc file from\n",
      "https://github.com/matplotlib/matplotlib/blob/v3.3.4/matplotlibrc.template\n",
      "or from the matplotlib source distribution\n",
      "\n",
      "Bad key savefig.frameon in file /home/fqh/anaconda3/lib/python3.6/site-packages/matplotlib/mpl-data/stylelib/_classic_test.mplstyle, line 423 ('savefig.frameon : True')\n",
      "You probably need to get an updated matplotlibrc file from\n",
      "https://github.com/matplotlib/matplotlib/blob/v3.3.4/matplotlibrc.template\n",
      "or from the matplotlib source distribution\n",
      "\n",
      "Bad key pgf.debug in file /home/fqh/anaconda3/lib/python3.6/site-packages/matplotlib/mpl-data/stylelib/_classic_test.mplstyle, line 444 ('pgf.debug           : False')\n",
      "You probably need to get an updated matplotlibrc file from\n",
      "https://github.com/matplotlib/matplotlib/blob/v3.3.4/matplotlibrc.template\n",
      "or from the matplotlib source distribution\n",
      "\n",
      "Bad key verbose.level in file /home/fqh/anaconda3/lib/python3.6/site-packages/matplotlib/mpl-data/stylelib/_classic_test.mplstyle, line 475 ('verbose.level  : silent      # one of silent, helpful, debug, debug-annoying')\n",
      "You probably need to get an updated matplotlibrc file from\n",
      "https://github.com/matplotlib/matplotlib/blob/v3.3.4/matplotlibrc.template\n",
      "or from the matplotlib source distribution\n",
      "\n",
      "Bad key verbose.fileo in file /home/fqh/anaconda3/lib/python3.6/site-packages/matplotlib/mpl-data/stylelib/_classic_test.mplstyle, line 476 ('verbose.fileo  : sys.stdout  # a log filename, sys.stdout or sys.stderr')\n",
      "You probably need to get an updated matplotlibrc file from\n",
      "https://github.com/matplotlib/matplotlib/blob/v3.3.4/matplotlibrc.template\n",
      "or from the matplotlib source distribution\n",
      "In /home/fqh/anaconda3/lib/python3.6/site-packages/matplotlib/mpl-data/stylelib/_classic_test.mplstyle: \n",
      "The text.latex.preview rcparam was deprecated in Matplotlib 3.3 and will be removed two minor releases later.\n",
      "In /home/fqh/anaconda3/lib/python3.6/site-packages/matplotlib/mpl-data/stylelib/_classic_test.mplstyle: \n",
      "The mathtext.fallback_to_cm rcparam was deprecated in Matplotlib 3.3 and will be removed two minor releases later.\n",
      "In /home/fqh/anaconda3/lib/python3.6/site-packages/matplotlib/mpl-data/stylelib/_classic_test.mplstyle: Support for setting the 'mathtext.fallback_to_cm' rcParam is deprecated since 3.3 and will be removed two minor releases later; use 'mathtext.fallback : 'cm' instead.\n",
      "In /home/fqh/anaconda3/lib/python3.6/site-packages/matplotlib/mpl-data/stylelib/_classic_test.mplstyle: \n",
      "The validate_bool_maybe_none function was deprecated in Matplotlib 3.3 and will be removed two minor releases later.\n",
      "In /home/fqh/anaconda3/lib/python3.6/site-packages/matplotlib/mpl-data/stylelib/_classic_test.mplstyle: \n",
      "The savefig.jpeg_quality rcparam was deprecated in Matplotlib 3.3 and will be removed two minor releases later.\n",
      "In /home/fqh/anaconda3/lib/python3.6/site-packages/matplotlib/mpl-data/stylelib/_classic_test.mplstyle: \n",
      "The keymap.all_axes rcparam was deprecated in Matplotlib 3.3 and will be removed two minor releases later.\n",
      "In /home/fqh/anaconda3/lib/python3.6/site-packages/matplotlib/mpl-data/stylelib/_classic_test.mplstyle: \n",
      "The animation.avconv_path rcparam was deprecated in Matplotlib 3.3 and will be removed two minor releases later.\n",
      "In /home/fqh/anaconda3/lib/python3.6/site-packages/matplotlib/mpl-data/stylelib/_classic_test.mplstyle: \n",
      "The animation.avconv_args rcparam was deprecated in Matplotlib 3.3 and will be removed two minor releases later.\n"
     ]
    },
    {
     "data": {
      "text/plain": [
       "<Figure size 640x480 with 1 Axes>"
      ]
     },
     "metadata": {},
     "output_type": "display_data"
    },
    {
     "data": {
      "text/plain": [
       "<Figure size 640x480 with 1 Axes>"
      ]
     },
     "metadata": {},
     "output_type": "display_data"
    },
    {
     "data": {
      "text/plain": [
       "<Figure size 640x480 with 1 Axes>"
      ]
     },
     "metadata": {},
     "output_type": "display_data"
    },
    {
     "data": {
      "text/plain": [
       "<Figure size 640x480 with 1 Axes>"
      ]
     },
     "metadata": {},
     "output_type": "display_data"
    },
    {
     "data": {
      "text/plain": [
       "<Figure size 640x480 with 1 Axes>"
      ]
     },
     "metadata": {},
     "output_type": "display_data"
    },
    {
     "data": {
      "text/plain": [
       "<Figure size 640x480 with 1 Axes>"
      ]
     },
     "metadata": {},
     "output_type": "display_data"
    },
    {
     "data": {
      "text/plain": [
       "<Figure size 640x480 with 1 Axes>"
      ]
     },
     "metadata": {},
     "output_type": "display_data"
    },
    {
     "data": {
      "text/plain": [
       "<Figure size 640x480 with 1 Axes>"
      ]
     },
     "metadata": {},
     "output_type": "display_data"
    },
    {
     "data": {
      "text/plain": [
       "<Figure size 640x480 with 1 Axes>"
      ]
     },
     "metadata": {},
     "output_type": "display_data"
    },
    {
     "data": {
      "text/plain": [
       "<Figure size 640x480 with 1 Axes>"
      ]
     },
     "metadata": {},
     "output_type": "display_data"
    },
    {
     "data": {
      "text/plain": [
       "<Figure size 640x480 with 1 Axes>"
      ]
     },
     "metadata": {},
     "output_type": "display_data"
    },
    {
     "data": {
      "text/plain": [
       "<Figure size 640x480 with 1 Axes>"
      ]
     },
     "metadata": {},
     "output_type": "display_data"
    },
    {
     "data": {
      "text/plain": [
       "<Figure size 640x480 with 1 Axes>"
      ]
     },
     "metadata": {},
     "output_type": "display_data"
    },
    {
     "data": {
      "text/plain": [
       "<Figure size 640x480 with 1 Axes>"
      ]
     },
     "metadata": {},
     "output_type": "display_data"
    },
    {
     "data": {
      "text/plain": [
       "<Figure size 640x480 with 1 Axes>"
      ]
     },
     "metadata": {},
     "output_type": "display_data"
    },
    {
     "data": {
      "text/plain": [
       "<Figure size 640x480 with 1 Axes>"
      ]
     },
     "metadata": {},
     "output_type": "display_data"
    },
    {
     "data": {
      "text/plain": [
       "<Figure size 640x480 with 1 Axes>"
      ]
     },
     "metadata": {},
     "output_type": "display_data"
    },
    {
     "data": {
      "text/plain": [
       "<Figure size 640x480 with 1 Axes>"
      ]
     },
     "metadata": {},
     "output_type": "display_data"
    },
    {
     "data": {
      "text/plain": [
       "<Figure size 640x480 with 1 Axes>"
      ]
     },
     "metadata": {},
     "output_type": "display_data"
    },
    {
     "data": {
      "text/plain": [
       "<Figure size 640x480 with 1 Axes>"
      ]
     },
     "metadata": {},
     "output_type": "display_data"
    },
    {
     "data": {
      "text/plain": [
       "<Figure size 640x480 with 1 Axes>"
      ]
     },
     "metadata": {},
     "output_type": "display_data"
    },
    {
     "data": {
      "text/plain": [
       "<Figure size 640x480 with 1 Axes>"
      ]
     },
     "metadata": {},
     "output_type": "display_data"
    },
    {
     "data": {
      "text/plain": [
       "<Figure size 640x480 with 1 Axes>"
      ]
     },
     "metadata": {},
     "output_type": "display_data"
    },
    {
     "data": {
      "text/plain": [
       "<Figure size 640x480 with 1 Axes>"
      ]
     },
     "metadata": {},
     "output_type": "display_data"
    },
    {
     "data": {
      "text/plain": [
       "<Figure size 640x480 with 1 Axes>"
      ]
     },
     "metadata": {},
     "output_type": "display_data"
    },
    {
     "data": {
      "text/plain": [
       "<Figure size 640x480 with 1 Axes>"
      ]
     },
     "metadata": {},
     "output_type": "display_data"
    },
    {
     "data": {
      "text/plain": [
       "<Figure size 640x480 with 1 Axes>"
      ]
     },
     "metadata": {},
     "output_type": "display_data"
    },
    {
     "data": {
      "text/plain": [
       "<Figure size 640x480 with 1 Axes>"
      ]
     },
     "metadata": {},
     "output_type": "display_data"
    },
    {
     "data": {
      "text/plain": [
       "<Figure size 640x480 with 1 Axes>"
      ]
     },
     "metadata": {},
     "output_type": "display_data"
    },
    {
     "data": {
      "text/plain": [
       "<Figure size 640x480 with 1 Axes>"
      ]
     },
     "metadata": {},
     "output_type": "display_data"
    },
    {
     "data": {
      "text/plain": [
       "<Figure size 640x480 with 1 Axes>"
      ]
     },
     "metadata": {},
     "output_type": "display_data"
    },
    {
     "data": {
      "text/plain": [
       "<Figure size 640x480 with 1 Axes>"
      ]
     },
     "metadata": {},
     "output_type": "display_data"
    },
    {
     "data": {
      "text/plain": [
       "<Figure size 640x480 with 1 Axes>"
      ]
     },
     "metadata": {},
     "output_type": "display_data"
    },
    {
     "data": {
      "text/plain": [
       "<Figure size 640x480 with 1 Axes>"
      ]
     },
     "metadata": {},
     "output_type": "display_data"
    },
    {
     "data": {
      "text/plain": [
       "<Figure size 640x480 with 1 Axes>"
      ]
     },
     "metadata": {},
     "output_type": "display_data"
    },
    {
     "data": {
      "text/plain": [
       "<Figure size 640x480 with 1 Axes>"
      ]
     },
     "metadata": {},
     "output_type": "display_data"
    },
    {
     "data": {
      "text/plain": [
       "<Figure size 640x480 with 1 Axes>"
      ]
     },
     "metadata": {},
     "output_type": "display_data"
    },
    {
     "data": {
      "text/plain": [
       "<Figure size 640x480 with 1 Axes>"
      ]
     },
     "metadata": {},
     "output_type": "display_data"
    },
    {
     "data": {
      "text/plain": [
       "<Figure size 640x480 with 1 Axes>"
      ]
     },
     "metadata": {},
     "output_type": "display_data"
    },
    {
     "data": {
      "text/plain": [
       "<Figure size 640x480 with 1 Axes>"
      ]
     },
     "metadata": {},
     "output_type": "display_data"
    },
    {
     "data": {
      "text/plain": [
       "<Figure size 640x480 with 1 Axes>"
      ]
     },
     "metadata": {},
     "output_type": "display_data"
    },
    {
     "data": {
      "text/plain": [
       "<Figure size 640x480 with 1 Axes>"
      ]
     },
     "metadata": {},
     "output_type": "display_data"
    },
    {
     "data": {
      "text/plain": [
       "<Figure size 640x480 with 1 Axes>"
      ]
     },
     "metadata": {},
     "output_type": "display_data"
    },
    {
     "data": {
      "text/plain": [
       "<Figure size 640x480 with 1 Axes>"
      ]
     },
     "metadata": {},
     "output_type": "display_data"
    },
    {
     "data": {
      "text/plain": [
       "<Figure size 640x480 with 1 Axes>"
      ]
     },
     "metadata": {},
     "output_type": "display_data"
    },
    {
     "data": {
      "text/plain": [
       "<Figure size 640x480 with 1 Axes>"
      ]
     },
     "metadata": {},
     "output_type": "display_data"
    },
    {
     "data": {
      "text/plain": [
       "<Figure size 640x480 with 1 Axes>"
      ]
     },
     "metadata": {},
     "output_type": "display_data"
    },
    {
     "data": {
      "text/plain": [
       "<Figure size 640x480 with 1 Axes>"
      ]
     },
     "metadata": {},
     "output_type": "display_data"
    },
    {
     "data": {
      "text/plain": [
       "<Figure size 640x480 with 1 Axes>"
      ]
     },
     "metadata": {},
     "output_type": "display_data"
    },
    {
     "data": {
      "text/plain": [
       "<Figure size 640x480 with 1 Axes>"
      ]
     },
     "metadata": {},
     "output_type": "display_data"
    },
    {
     "data": {
      "text/plain": [
       "<Figure size 640x480 with 1 Axes>"
      ]
     },
     "metadata": {},
     "output_type": "display_data"
    },
    {
     "data": {
      "text/plain": [
       "<Figure size 640x480 with 1 Axes>"
      ]
     },
     "metadata": {},
     "output_type": "display_data"
    },
    {
     "data": {
      "text/plain": [
       "<Figure size 640x480 with 1 Axes>"
      ]
     },
     "metadata": {},
     "output_type": "display_data"
    },
    {
     "data": {
      "text/plain": [
       "<Figure size 640x480 with 1 Axes>"
      ]
     },
     "metadata": {},
     "output_type": "display_data"
    },
    {
     "data": {
      "text/plain": [
       "<Figure size 640x480 with 1 Axes>"
      ]
     },
     "metadata": {},
     "output_type": "display_data"
    },
    {
     "data": {
      "text/plain": [
       "<Figure size 640x480 with 1 Axes>"
      ]
     },
     "metadata": {},
     "output_type": "display_data"
    },
    {
     "data": {
      "text/plain": [
       "<Figure size 640x480 with 1 Axes>"
      ]
     },
     "metadata": {},
     "output_type": "display_data"
    },
    {
     "data": {
      "text/plain": [
       "<Figure size 640x480 with 1 Axes>"
      ]
     },
     "metadata": {},
     "output_type": "display_data"
    },
    {
     "data": {
      "text/plain": [
       "<Figure size 640x480 with 1 Axes>"
      ]
     },
     "metadata": {},
     "output_type": "display_data"
    },
    {
     "data": {
      "text/plain": [
       "<Figure size 640x480 with 1 Axes>"
      ]
     },
     "metadata": {},
     "output_type": "display_data"
    },
    {
     "data": {
      "text/plain": [
       "<Figure size 640x480 with 1 Axes>"
      ]
     },
     "metadata": {},
     "output_type": "display_data"
    },
    {
     "data": {
      "text/plain": [
       "<Figure size 640x480 with 1 Axes>"
      ]
     },
     "metadata": {},
     "output_type": "display_data"
    },
    {
     "data": {
      "text/plain": [
       "<Figure size 640x480 with 1 Axes>"
      ]
     },
     "metadata": {},
     "output_type": "display_data"
    },
    {
     "data": {
      "text/plain": [
       "<Figure size 640x480 with 1 Axes>"
      ]
     },
     "metadata": {},
     "output_type": "display_data"
    },
    {
     "data": {
      "text/plain": [
       "<Figure size 640x480 with 1 Axes>"
      ]
     },
     "metadata": {},
     "output_type": "display_data"
    },
    {
     "data": {
      "text/plain": [
       "<Figure size 640x480 with 1 Axes>"
      ]
     },
     "metadata": {},
     "output_type": "display_data"
    },
    {
     "data": {
      "text/plain": [
       "<Figure size 640x480 with 1 Axes>"
      ]
     },
     "metadata": {},
     "output_type": "display_data"
    },
    {
     "data": {
      "text/plain": [
       "<Figure size 640x480 with 1 Axes>"
      ]
     },
     "metadata": {},
     "output_type": "display_data"
    },
    {
     "data": {
      "text/plain": [
       "<Figure size 640x480 with 1 Axes>"
      ]
     },
     "metadata": {},
     "output_type": "display_data"
    },
    {
     "data": {
      "text/plain": [
       "<Figure size 640x480 with 1 Axes>"
      ]
     },
     "metadata": {},
     "output_type": "display_data"
    },
    {
     "ename": "KeyboardInterrupt",
     "evalue": "",
     "output_type": "error",
     "traceback": [
      "\u001b[0;31m---------------------------------------------------------------------------\u001b[0m",
      "\u001b[0;31mKeyboardInterrupt\u001b[0m                         Traceback (most recent call last)",
      "\u001b[0;32m<ipython-input-20-645ee6448e70>\u001b[0m in \u001b[0;36m<module>\u001b[0;34m()\u001b[0m\n\u001b[1;32m      3\u001b[0m \u001b[0;32mfor\u001b[0m \u001b[0midx\u001b[0m \u001b[0;32min\u001b[0m \u001b[0mrange\u001b[0m\u001b[0;34m(\u001b[0m\u001b[0;36m100\u001b[0m\u001b[0;34m)\u001b[0m\u001b[0;34m:\u001b[0m\u001b[0;34m\u001b[0m\u001b[0m\n\u001b[1;32m      4\u001b[0m     \u001b[0;32mfor\u001b[0m \u001b[0;34m(\u001b[0m\u001b[0mx\u001b[0m\u001b[0;34m,\u001b[0m \u001b[0my\u001b[0m\u001b[0;34m)\u001b[0m \u001b[0;32min\u001b[0m \u001b[0mnp\u001b[0m\u001b[0;34m.\u001b[0m\u001b[0marray\u001b[0m\u001b[0;34m(\u001b[0m\u001b[0mtest_points\u001b[0m\u001b[0;34m[\u001b[0m\u001b[0midx\u001b[0m\u001b[0;34m]\u001b[0m\u001b[0;34m)\u001b[0m\u001b[0;34m.\u001b[0m\u001b[0mreshape\u001b[0m\u001b[0;34m(\u001b[0m\u001b[0;34m-\u001b[0m\u001b[0;36m1\u001b[0m\u001b[0;34m,\u001b[0m\u001b[0;36m2\u001b[0m\u001b[0;34m)\u001b[0m\u001b[0;34m:\u001b[0m\u001b[0;34m\u001b[0m\u001b[0m\n\u001b[0;32m----> 5\u001b[0;31m         \u001b[0mplt\u001b[0m\u001b[0;34m.\u001b[0m\u001b[0mscatter\u001b[0m\u001b[0;34m(\u001b[0m\u001b[0mint\u001b[0m\u001b[0;34m(\u001b[0m\u001b[0mx\u001b[0m\u001b[0;34m)\u001b[0m\u001b[0;34m,\u001b[0m \u001b[0mint\u001b[0m\u001b[0;34m(\u001b[0m\u001b[0my\u001b[0m\u001b[0;34m)\u001b[0m\u001b[0;34m,\u001b[0m \u001b[0mc\u001b[0m\u001b[0;34m=\u001b[0m\u001b[0;34m'r'\u001b[0m\u001b[0;34m)\u001b[0m\u001b[0;34m\u001b[0m\u001b[0m\n\u001b[0m\u001b[1;32m      6\u001b[0m \u001b[0;34m\u001b[0m\u001b[0m\n\u001b[1;32m      7\u001b[0m     \u001b[0mplt\u001b[0m\u001b[0;34m.\u001b[0m\u001b[0mimshow\u001b[0m\u001b[0;34m(\u001b[0m\u001b[0mtest_imgs\u001b[0m\u001b[0;34m[\u001b[0m\u001b[0midx\u001b[0m\u001b[0;34m]\u001b[0m\u001b[0;34m,\u001b[0m \u001b[0mcmap\u001b[0m\u001b[0;34m=\u001b[0m\u001b[0;34m'gray'\u001b[0m\u001b[0;34m)\u001b[0m\u001b[0;34m\u001b[0m\u001b[0m\n",
      "\u001b[0;32m~/anaconda3/lib/python3.6/site-packages/matplotlib/pyplot.py\u001b[0m in \u001b[0;36mscatter\u001b[0;34m(x, y, s, c, marker, cmap, norm, vmin, vmax, alpha, linewidths, verts, edgecolors, plotnonfinite, data, **kwargs)\u001b[0m\n\u001b[1;32m   2888\u001b[0m         \u001b[0mverts\u001b[0m\u001b[0;34m=\u001b[0m\u001b[0mcbook\u001b[0m\u001b[0;34m.\u001b[0m\u001b[0mdeprecation\u001b[0m\u001b[0;34m.\u001b[0m\u001b[0m_deprecated_parameter\u001b[0m\u001b[0;34m,\u001b[0m\u001b[0;34m\u001b[0m\u001b[0m\n\u001b[1;32m   2889\u001b[0m         edgecolors=None, *, plotnonfinite=False, data=None, **kwargs):\n\u001b[0;32m-> 2890\u001b[0;31m     __ret = gca().scatter(\n\u001b[0m\u001b[1;32m   2891\u001b[0m         \u001b[0mx\u001b[0m\u001b[0;34m,\u001b[0m \u001b[0my\u001b[0m\u001b[0;34m,\u001b[0m \u001b[0ms\u001b[0m\u001b[0;34m=\u001b[0m\u001b[0ms\u001b[0m\u001b[0;34m,\u001b[0m \u001b[0mc\u001b[0m\u001b[0;34m=\u001b[0m\u001b[0mc\u001b[0m\u001b[0;34m,\u001b[0m \u001b[0mmarker\u001b[0m\u001b[0;34m=\u001b[0m\u001b[0mmarker\u001b[0m\u001b[0;34m,\u001b[0m \u001b[0mcmap\u001b[0m\u001b[0;34m=\u001b[0m\u001b[0mcmap\u001b[0m\u001b[0;34m,\u001b[0m \u001b[0mnorm\u001b[0m\u001b[0;34m=\u001b[0m\u001b[0mnorm\u001b[0m\u001b[0;34m,\u001b[0m\u001b[0;34m\u001b[0m\u001b[0m\n\u001b[1;32m   2892\u001b[0m         \u001b[0mvmin\u001b[0m\u001b[0;34m=\u001b[0m\u001b[0mvmin\u001b[0m\u001b[0;34m,\u001b[0m \u001b[0mvmax\u001b[0m\u001b[0;34m=\u001b[0m\u001b[0mvmax\u001b[0m\u001b[0;34m,\u001b[0m \u001b[0malpha\u001b[0m\u001b[0;34m=\u001b[0m\u001b[0malpha\u001b[0m\u001b[0;34m,\u001b[0m \u001b[0mlinewidths\u001b[0m\u001b[0;34m=\u001b[0m\u001b[0mlinewidths\u001b[0m\u001b[0;34m,\u001b[0m\u001b[0;34m\u001b[0m\u001b[0m\n",
      "\u001b[0;32m~/anaconda3/lib/python3.6/site-packages/matplotlib/pyplot.py\u001b[0m in \u001b[0;36mgca\u001b[0;34m(**kwargs)\u001b[0m\n\u001b[1;32m   2366\u001b[0m \u001b[0;34m@\u001b[0m\u001b[0m_copy_docstring_and_deprecators\u001b[0m\u001b[0;34m(\u001b[0m\u001b[0mFigure\u001b[0m\u001b[0;34m.\u001b[0m\u001b[0mgca\u001b[0m\u001b[0;34m)\u001b[0m\u001b[0;34m\u001b[0m\u001b[0m\n\u001b[1;32m   2367\u001b[0m \u001b[0;32mdef\u001b[0m \u001b[0mgca\u001b[0m\u001b[0;34m(\u001b[0m\u001b[0;34m**\u001b[0m\u001b[0mkwargs\u001b[0m\u001b[0;34m)\u001b[0m\u001b[0;34m:\u001b[0m\u001b[0;34m\u001b[0m\u001b[0m\n\u001b[0;32m-> 2368\u001b[0;31m     \u001b[0;32mreturn\u001b[0m \u001b[0mgcf\u001b[0m\u001b[0;34m(\u001b[0m\u001b[0;34m)\u001b[0m\u001b[0;34m.\u001b[0m\u001b[0mgca\u001b[0m\u001b[0;34m(\u001b[0m\u001b[0;34m**\u001b[0m\u001b[0mkwargs\u001b[0m\u001b[0;34m)\u001b[0m\u001b[0;34m\u001b[0m\u001b[0m\n\u001b[0m\u001b[1;32m   2369\u001b[0m \u001b[0;34m\u001b[0m\u001b[0m\n\u001b[1;32m   2370\u001b[0m \u001b[0;34m\u001b[0m\u001b[0m\n",
      "\u001b[0;32m~/anaconda3/lib/python3.6/site-packages/matplotlib/figure.py\u001b[0m in \u001b[0;36mgca\u001b[0;34m(self, **kwargs)\u001b[0m\n\u001b[1;32m   2063\u001b[0m \u001b[0;34m\u001b[0m\u001b[0m\n\u001b[1;32m   2064\u001b[0m         \u001b[0;31m# no axes found, so create one which spans the figure\u001b[0m\u001b[0;34m\u001b[0m\u001b[0;34m\u001b[0m\u001b[0m\n\u001b[0;32m-> 2065\u001b[0;31m         \u001b[0;32mreturn\u001b[0m \u001b[0mself\u001b[0m\u001b[0;34m.\u001b[0m\u001b[0madd_subplot\u001b[0m\u001b[0;34m(\u001b[0m\u001b[0;36m1\u001b[0m\u001b[0;34m,\u001b[0m \u001b[0;36m1\u001b[0m\u001b[0;34m,\u001b[0m \u001b[0;36m1\u001b[0m\u001b[0;34m,\u001b[0m \u001b[0;34m**\u001b[0m\u001b[0mkwargs\u001b[0m\u001b[0;34m)\u001b[0m\u001b[0;34m\u001b[0m\u001b[0m\n\u001b[0m\u001b[1;32m   2066\u001b[0m \u001b[0;34m\u001b[0m\u001b[0m\n\u001b[1;32m   2067\u001b[0m     \u001b[0;32mdef\u001b[0m \u001b[0msca\u001b[0m\u001b[0;34m(\u001b[0m\u001b[0mself\u001b[0m\u001b[0;34m,\u001b[0m \u001b[0ma\u001b[0m\u001b[0;34m)\u001b[0m\u001b[0;34m:\u001b[0m\u001b[0;34m\u001b[0m\u001b[0m\n",
      "\u001b[0;32m~/anaconda3/lib/python3.6/site-packages/matplotlib/figure.py\u001b[0m in \u001b[0;36madd_subplot\u001b[0;34m(self, *args, **kwargs)\u001b[0m\n\u001b[1;32m   1400\u001b[0m                     \u001b[0;31m# more similar to add_axes.\u001b[0m\u001b[0;34m\u001b[0m\u001b[0;34m\u001b[0m\u001b[0m\n\u001b[1;32m   1401\u001b[0m                     \u001b[0mself\u001b[0m\u001b[0;34m.\u001b[0m\u001b[0m_axstack\u001b[0m\u001b[0;34m.\u001b[0m\u001b[0mremove\u001b[0m\u001b[0;34m(\u001b[0m\u001b[0max\u001b[0m\u001b[0;34m)\u001b[0m\u001b[0;34m\u001b[0m\u001b[0m\n\u001b[0;32m-> 1402\u001b[0;31m             \u001b[0max\u001b[0m \u001b[0;34m=\u001b[0m \u001b[0msubplot_class_factory\u001b[0m\u001b[0;34m(\u001b[0m\u001b[0mprojection_class\u001b[0m\u001b[0;34m)\u001b[0m\u001b[0;34m(\u001b[0m\u001b[0mself\u001b[0m\u001b[0;34m,\u001b[0m \u001b[0;34m*\u001b[0m\u001b[0margs\u001b[0m\u001b[0;34m,\u001b[0m \u001b[0;34m**\u001b[0m\u001b[0mkwargs\u001b[0m\u001b[0;34m)\u001b[0m\u001b[0;34m\u001b[0m\u001b[0m\n\u001b[0m\u001b[1;32m   1403\u001b[0m \u001b[0;34m\u001b[0m\u001b[0m\n\u001b[1;32m   1404\u001b[0m         \u001b[0;32mreturn\u001b[0m \u001b[0mself\u001b[0m\u001b[0;34m.\u001b[0m\u001b[0m_add_axes_internal\u001b[0m\u001b[0;34m(\u001b[0m\u001b[0mkey\u001b[0m\u001b[0;34m,\u001b[0m \u001b[0max\u001b[0m\u001b[0;34m)\u001b[0m\u001b[0;34m\u001b[0m\u001b[0m\n",
      "\u001b[0;32m~/anaconda3/lib/python3.6/site-packages/matplotlib/axes/_subplots.py\u001b[0m in \u001b[0;36m__init__\u001b[0;34m(self, fig, *args, **kwargs)\u001b[0m\n\u001b[1;32m     40\u001b[0m         \u001b[0mself\u001b[0m\u001b[0;34m.\u001b[0m\u001b[0mupdate_params\u001b[0m\u001b[0;34m(\u001b[0m\u001b[0;34m)\u001b[0m\u001b[0;34m\u001b[0m\u001b[0m\n\u001b[1;32m     41\u001b[0m         \u001b[0;31m# _axes_class is set in the subplot_class_factory\u001b[0m\u001b[0;34m\u001b[0m\u001b[0;34m\u001b[0m\u001b[0m\n\u001b[0;32m---> 42\u001b[0;31m         \u001b[0mself\u001b[0m\u001b[0;34m.\u001b[0m\u001b[0m_axes_class\u001b[0m\u001b[0;34m.\u001b[0m\u001b[0m__init__\u001b[0m\u001b[0;34m(\u001b[0m\u001b[0mself\u001b[0m\u001b[0;34m,\u001b[0m \u001b[0mfig\u001b[0m\u001b[0;34m,\u001b[0m \u001b[0mself\u001b[0m\u001b[0;34m.\u001b[0m\u001b[0mfigbox\u001b[0m\u001b[0;34m,\u001b[0m \u001b[0;34m**\u001b[0m\u001b[0mkwargs\u001b[0m\u001b[0;34m)\u001b[0m\u001b[0;34m\u001b[0m\u001b[0m\n\u001b[0m\u001b[1;32m     43\u001b[0m         \u001b[0;31m# add a layout box to this, for both the full axis, and the poss\u001b[0m\u001b[0;34m\u001b[0m\u001b[0;34m\u001b[0m\u001b[0m\n\u001b[1;32m     44\u001b[0m         \u001b[0;31m# of the axis.  We need both because the axes may become smaller\u001b[0m\u001b[0;34m\u001b[0m\u001b[0;34m\u001b[0m\u001b[0m\n",
      "\u001b[0;32m~/anaconda3/lib/python3.6/site-packages/matplotlib/axes/_base.py\u001b[0m in \u001b[0;36m__init__\u001b[0;34m(self, fig, rect, facecolor, frameon, sharex, sharey, label, xscale, yscale, box_aspect, **kwargs)\u001b[0m\n\u001b[1;32m    509\u001b[0m \u001b[0;34m\u001b[0m\u001b[0m\n\u001b[1;32m    510\u001b[0m         \u001b[0mself\u001b[0m\u001b[0;34m.\u001b[0m\u001b[0m_rasterization_zorder\u001b[0m \u001b[0;34m=\u001b[0m \u001b[0;32mNone\u001b[0m\u001b[0;34m\u001b[0m\u001b[0m\n\u001b[0;32m--> 511\u001b[0;31m         \u001b[0mself\u001b[0m\u001b[0;34m.\u001b[0m\u001b[0mcla\u001b[0m\u001b[0;34m(\u001b[0m\u001b[0;34m)\u001b[0m\u001b[0;34m\u001b[0m\u001b[0m\n\u001b[0m\u001b[1;32m    512\u001b[0m \u001b[0;34m\u001b[0m\u001b[0m\n\u001b[1;32m    513\u001b[0m         \u001b[0;31m# funcs used to format x and y - fall back on major formatters\u001b[0m\u001b[0;34m\u001b[0m\u001b[0;34m\u001b[0m\u001b[0m\n",
      "\u001b[0;32m~/anaconda3/lib/python3.6/site-packages/matplotlib/axes/_base.py\u001b[0m in \u001b[0;36mcla\u001b[0;34m(self)\u001b[0m\n\u001b[1;32m   1159\u001b[0m         \u001b[0mself\u001b[0m\u001b[0;34m.\u001b[0m\u001b[0mset_axis_on\u001b[0m\u001b[0;34m(\u001b[0m\u001b[0;34m)\u001b[0m\u001b[0;34m\u001b[0m\u001b[0m\n\u001b[1;32m   1160\u001b[0m \u001b[0;34m\u001b[0m\u001b[0m\n\u001b[0;32m-> 1161\u001b[0;31m         \u001b[0mself\u001b[0m\u001b[0;34m.\u001b[0m\u001b[0mxaxis\u001b[0m\u001b[0;34m.\u001b[0m\u001b[0mset_clip_path\u001b[0m\u001b[0;34m(\u001b[0m\u001b[0mself\u001b[0m\u001b[0;34m.\u001b[0m\u001b[0mpatch\u001b[0m\u001b[0;34m)\u001b[0m\u001b[0;34m\u001b[0m\u001b[0m\n\u001b[0m\u001b[1;32m   1162\u001b[0m         \u001b[0mself\u001b[0m\u001b[0;34m.\u001b[0m\u001b[0myaxis\u001b[0m\u001b[0;34m.\u001b[0m\u001b[0mset_clip_path\u001b[0m\u001b[0;34m(\u001b[0m\u001b[0mself\u001b[0m\u001b[0;34m.\u001b[0m\u001b[0mpatch\u001b[0m\u001b[0;34m)\u001b[0m\u001b[0;34m\u001b[0m\u001b[0m\n\u001b[1;32m   1163\u001b[0m \u001b[0;34m\u001b[0m\u001b[0m\n",
      "\u001b[0;32m~/anaconda3/lib/python3.6/site-packages/matplotlib/axis.py\u001b[0m in \u001b[0;36mset_clip_path\u001b[0;34m(self, clippath, transform)\u001b[0m\n\u001b[1;32m    899\u001b[0m     \u001b[0;32mdef\u001b[0m \u001b[0mset_clip_path\u001b[0m\u001b[0;34m(\u001b[0m\u001b[0mself\u001b[0m\u001b[0;34m,\u001b[0m \u001b[0mclippath\u001b[0m\u001b[0;34m,\u001b[0m \u001b[0mtransform\u001b[0m\u001b[0;34m=\u001b[0m\u001b[0;32mNone\u001b[0m\u001b[0;34m)\u001b[0m\u001b[0;34m:\u001b[0m\u001b[0;34m\u001b[0m\u001b[0m\n\u001b[1;32m    900\u001b[0m         \u001b[0mmartist\u001b[0m\u001b[0;34m.\u001b[0m\u001b[0mArtist\u001b[0m\u001b[0;34m.\u001b[0m\u001b[0mset_clip_path\u001b[0m\u001b[0;34m(\u001b[0m\u001b[0mself\u001b[0m\u001b[0;34m,\u001b[0m \u001b[0mclippath\u001b[0m\u001b[0;34m,\u001b[0m \u001b[0mtransform\u001b[0m\u001b[0;34m)\u001b[0m\u001b[0;34m\u001b[0m\u001b[0m\n\u001b[0;32m--> 901\u001b[0;31m         \u001b[0;32mfor\u001b[0m \u001b[0mchild\u001b[0m \u001b[0;32min\u001b[0m \u001b[0mself\u001b[0m\u001b[0;34m.\u001b[0m\u001b[0mmajorTicks\u001b[0m \u001b[0;34m+\u001b[0m \u001b[0mself\u001b[0m\u001b[0;34m.\u001b[0m\u001b[0mminorTicks\u001b[0m\u001b[0;34m:\u001b[0m\u001b[0;34m\u001b[0m\u001b[0m\n\u001b[0m\u001b[1;32m    902\u001b[0m             \u001b[0mchild\u001b[0m\u001b[0;34m.\u001b[0m\u001b[0mset_clip_path\u001b[0m\u001b[0;34m(\u001b[0m\u001b[0mclippath\u001b[0m\u001b[0;34m,\u001b[0m \u001b[0mtransform\u001b[0m\u001b[0;34m)\u001b[0m\u001b[0;34m\u001b[0m\u001b[0m\n\u001b[1;32m    903\u001b[0m         \u001b[0mself\u001b[0m\u001b[0;34m.\u001b[0m\u001b[0mstale\u001b[0m \u001b[0;34m=\u001b[0m \u001b[0;32mTrue\u001b[0m\u001b[0;34m\u001b[0m\u001b[0m\n",
      "\u001b[0;32m~/anaconda3/lib/python3.6/site-packages/matplotlib/axis.py\u001b[0m in \u001b[0;36m__get__\u001b[0;34m(self, instance, cls)\u001b[0m\n\u001b[1;32m    621\u001b[0m             \u001b[0;32melse\u001b[0m\u001b[0;34m:\u001b[0m\u001b[0;34m\u001b[0m\u001b[0m\n\u001b[1;32m    622\u001b[0m                 \u001b[0minstance\u001b[0m\u001b[0;34m.\u001b[0m\u001b[0mminorTicks\u001b[0m \u001b[0;34m=\u001b[0m \u001b[0;34m[\u001b[0m\u001b[0;34m]\u001b[0m\u001b[0;34m\u001b[0m\u001b[0m\n\u001b[0;32m--> 623\u001b[0;31m                 \u001b[0mtick\u001b[0m \u001b[0;34m=\u001b[0m \u001b[0minstance\u001b[0m\u001b[0;34m.\u001b[0m\u001b[0m_get_tick\u001b[0m\u001b[0;34m(\u001b[0m\u001b[0mmajor\u001b[0m\u001b[0;34m=\u001b[0m\u001b[0;32mFalse\u001b[0m\u001b[0;34m)\u001b[0m\u001b[0;34m\u001b[0m\u001b[0m\n\u001b[0m\u001b[1;32m    624\u001b[0m                 \u001b[0minstance\u001b[0m\u001b[0;34m.\u001b[0m\u001b[0mminorTicks\u001b[0m\u001b[0;34m.\u001b[0m\u001b[0mappend\u001b[0m\u001b[0;34m(\u001b[0m\u001b[0mtick\u001b[0m\u001b[0;34m)\u001b[0m\u001b[0;34m\u001b[0m\u001b[0m\n\u001b[1;32m    625\u001b[0m                 \u001b[0;32mreturn\u001b[0m \u001b[0minstance\u001b[0m\u001b[0;34m.\u001b[0m\u001b[0mminorTicks\u001b[0m\u001b[0;34m\u001b[0m\u001b[0m\n",
      "\u001b[0;32m~/anaconda3/lib/python3.6/site-packages/matplotlib/axis.py\u001b[0m in \u001b[0;36m_get_tick\u001b[0;34m(self, major)\u001b[0m\n\u001b[1;32m   2014\u001b[0m         \u001b[0;32melse\u001b[0m\u001b[0;34m:\u001b[0m\u001b[0;34m\u001b[0m\u001b[0m\n\u001b[1;32m   2015\u001b[0m             \u001b[0mtick_kw\u001b[0m \u001b[0;34m=\u001b[0m \u001b[0mself\u001b[0m\u001b[0;34m.\u001b[0m\u001b[0m_minor_tick_kw\u001b[0m\u001b[0;34m\u001b[0m\u001b[0m\n\u001b[0;32m-> 2016\u001b[0;31m         \u001b[0;32mreturn\u001b[0m \u001b[0mXTick\u001b[0m\u001b[0;34m(\u001b[0m\u001b[0mself\u001b[0m\u001b[0;34m.\u001b[0m\u001b[0maxes\u001b[0m\u001b[0;34m,\u001b[0m \u001b[0;36m0\u001b[0m\u001b[0;34m,\u001b[0m \u001b[0mmajor\u001b[0m\u001b[0;34m=\u001b[0m\u001b[0mmajor\u001b[0m\u001b[0;34m,\u001b[0m \u001b[0;34m**\u001b[0m\u001b[0mtick_kw\u001b[0m\u001b[0;34m)\u001b[0m\u001b[0;34m\u001b[0m\u001b[0m\n\u001b[0m\u001b[1;32m   2017\u001b[0m \u001b[0;34m\u001b[0m\u001b[0m\n\u001b[1;32m   2018\u001b[0m     \u001b[0;32mdef\u001b[0m \u001b[0mset_label_position\u001b[0m\u001b[0;34m(\u001b[0m\u001b[0mself\u001b[0m\u001b[0;34m,\u001b[0m \u001b[0mposition\u001b[0m\u001b[0;34m)\u001b[0m\u001b[0;34m:\u001b[0m\u001b[0;34m\u001b[0m\u001b[0m\n",
      "\u001b[0;32m~/anaconda3/lib/python3.6/site-packages/matplotlib/axis.py\u001b[0m in \u001b[0;36m__init__\u001b[0;34m(self, *args, **kwargs)\u001b[0m\n\u001b[1;32m    440\u001b[0m         self.label2.set(\n\u001b[1;32m    441\u001b[0m             \u001b[0mx\u001b[0m\u001b[0;34m=\u001b[0m\u001b[0;36m0\u001b[0m\u001b[0;34m,\u001b[0m \u001b[0my\u001b[0m\u001b[0;34m=\u001b[0m\u001b[0;36m1\u001b[0m\u001b[0;34m,\u001b[0m\u001b[0;34m\u001b[0m\u001b[0m\n\u001b[0;32m--> 442\u001b[0;31m             \u001b[0mverticalalignment\u001b[0m\u001b[0;34m=\u001b[0m\u001b[0mva\u001b[0m\u001b[0;34m,\u001b[0m \u001b[0mhorizontalalignment\u001b[0m\u001b[0;34m=\u001b[0m\u001b[0mha\u001b[0m\u001b[0;34m,\u001b[0m \u001b[0mtransform\u001b[0m\u001b[0;34m=\u001b[0m\u001b[0mtrans\u001b[0m\u001b[0;34m,\u001b[0m\u001b[0;34m\u001b[0m\u001b[0m\n\u001b[0m\u001b[1;32m    443\u001b[0m         )\n\u001b[1;32m    444\u001b[0m \u001b[0;34m\u001b[0m\u001b[0m\n",
      "\u001b[0;32m~/anaconda3/lib/python3.6/site-packages/matplotlib/artist.py\u001b[0m in \u001b[0;36mset\u001b[0;34m(self, **kwargs)\u001b[0m\n\u001b[1;32m   1086\u001b[0m     \u001b[0;32mdef\u001b[0m \u001b[0mset\u001b[0m\u001b[0;34m(\u001b[0m\u001b[0mself\u001b[0m\u001b[0;34m,\u001b[0m \u001b[0;34m**\u001b[0m\u001b[0mkwargs\u001b[0m\u001b[0;34m)\u001b[0m\u001b[0;34m:\u001b[0m\u001b[0;34m\u001b[0m\u001b[0m\n\u001b[1;32m   1087\u001b[0m         \u001b[0;34m\"\"\"A property batch setter.  Pass *kwargs* to set properties.\"\"\"\u001b[0m\u001b[0;34m\u001b[0m\u001b[0m\n\u001b[0;32m-> 1088\u001b[0;31m         \u001b[0mkwargs\u001b[0m \u001b[0;34m=\u001b[0m \u001b[0mcbook\u001b[0m\u001b[0;34m.\u001b[0m\u001b[0mnormalize_kwargs\u001b[0m\u001b[0;34m(\u001b[0m\u001b[0mkwargs\u001b[0m\u001b[0;34m,\u001b[0m \u001b[0mself\u001b[0m\u001b[0;34m)\u001b[0m\u001b[0;34m\u001b[0m\u001b[0m\n\u001b[0m\u001b[1;32m   1089\u001b[0m         \u001b[0mmove_color_to_start\u001b[0m \u001b[0;34m=\u001b[0m \u001b[0;32mFalse\u001b[0m\u001b[0;34m\u001b[0m\u001b[0m\n\u001b[1;32m   1090\u001b[0m         \u001b[0;32mif\u001b[0m \u001b[0;34m\"color\"\u001b[0m \u001b[0;32min\u001b[0m \u001b[0mkwargs\u001b[0m\u001b[0;34m:\u001b[0m\u001b[0;34m\u001b[0m\u001b[0m\n",
      "\u001b[0;32m~/anaconda3/lib/python3.6/site-packages/matplotlib/cbook/deprecation.py\u001b[0m in \u001b[0;36mwrapper\u001b[0;34m(*inner_args, **inner_kwargs)\u001b[0m\n\u001b[1;32m    409\u001b[0m                          \u001b[0;32melse\u001b[0m \u001b[0mdeprecation_addendum\u001b[0m\u001b[0;34m,\u001b[0m\u001b[0;34m\u001b[0m\u001b[0m\n\u001b[1;32m    410\u001b[0m                 **kwargs)\n\u001b[0;32m--> 411\u001b[0;31m         \u001b[0;32mreturn\u001b[0m \u001b[0mfunc\u001b[0m\u001b[0;34m(\u001b[0m\u001b[0;34m*\u001b[0m\u001b[0minner_args\u001b[0m\u001b[0;34m,\u001b[0m \u001b[0;34m**\u001b[0m\u001b[0minner_kwargs\u001b[0m\u001b[0;34m)\u001b[0m\u001b[0;34m\u001b[0m\u001b[0m\n\u001b[0m\u001b[1;32m    412\u001b[0m \u001b[0;34m\u001b[0m\u001b[0m\n\u001b[1;32m    413\u001b[0m     \u001b[0;32mreturn\u001b[0m \u001b[0mwrapper\u001b[0m\u001b[0;34m\u001b[0m\u001b[0m\n",
      "\u001b[0;32m~/anaconda3/lib/python3.6/site-packages/matplotlib/cbook/deprecation.py\u001b[0m in \u001b[0;36mwrapper\u001b[0;34m(*inner_args, **inner_kwargs)\u001b[0m\n\u001b[1;32m    397\u001b[0m         \u001b[0;31m# We cannot just check `name not in arguments` because the pyplot\u001b[0m\u001b[0;34m\u001b[0m\u001b[0;34m\u001b[0m\u001b[0m\n\u001b[1;32m    398\u001b[0m         \u001b[0;31m# wrappers always pass all arguments explicitly.\u001b[0m\u001b[0;34m\u001b[0m\u001b[0;34m\u001b[0m\u001b[0m\n\u001b[0;32m--> 399\u001b[0;31m         elif any(name in d and d[name] != _deprecated_parameter\n\u001b[0m\u001b[1;32m    400\u001b[0m                  for d in [arguments, arguments.get(kwargs_name, {})]):\n\u001b[1;32m    401\u001b[0m             deprecation_addendum = (\n",
      "\u001b[0;31mKeyboardInterrupt\u001b[0m: "
     ]
    }
   ],
   "source": [
    "import matplotlib.pyplot as plt\n",
    "\n",
    "for idx in range(100):\n",
    "    for (x, y) in np.array(test_points[idx]).reshape(-1,2):\n",
    "        plt.scatter(int(x), int(y), c='r')\n",
    "\n",
    "    plt.imshow(test_imgs[idx], cmap='gray')\n",
    "    plt.show()"
   ]
  },
  {
   "cell_type": "code",
   "execution_count": 45,
   "metadata": {},
   "outputs": [],
   "source": [
    "pd.DataFrame(test_points, columns=col).to_csv('9_2.csv', index=None)"
   ]
  },
  {
   "cell_type": "code",
   "execution_count": 55,
   "metadata": {},
   "outputs": [],
   "source": [
    "transform_HorizontalFlip = A.Compose(\n",
    "    [A.HorizontalFlip(p=1)], \n",
    ")\n",
    "\n",
    "aug_test = []\n",
    "for img in test:\n",
    "    transformed = transform_HorizontalFlip(image=img)\n",
    "    aug_test.append(transformed['image'])\n",
    "    \n",
    "test_scale = np.array(aug_test)\n",
    "\n",
    "test_loader = torch.utils.data.DataLoader(\n",
    "    XunFeiDataset(test_scale, torch.ones((2049, 8)),\n",
    "                    transforms.Compose([\n",
    "                        transforms.ToTensor(),\n",
    "                        transforms.Normalize(mean=[0.485, 0.456, 0.406],std=[0.229, 0.224, 0.225])\n",
    "        ])\n",
    "    ),\n",
    "    batch_size=10, shuffle=False, num_workers=5,\n",
    ")"
   ]
  },
  {
   "cell_type": "code",
   "execution_count": 37,
   "metadata": {},
   "outputs": [
    {
     "data": {
      "text/plain": [
       "(192, 192)"
      ]
     },
     "execution_count": 37,
     "metadata": {},
     "output_type": "execute_result"
    }
   ],
   "source": [
    "test_scale[0].shape"
   ]
  },
  {
   "cell_type": "code",
   "execution_count": 8,
   "metadata": {},
   "outputs": [
    {
     "ename": "NameError",
     "evalue": "name 'model' is not defined",
     "output_type": "error",
     "traceback": [
      "\u001b[0;31m---------------------------------------------------------------------------\u001b[0m",
      "\u001b[0;31mNameError\u001b[0m                                 Traceback (most recent call last)",
      "\u001b[0;32m<ipython-input-8-7207fbf0ff8c>\u001b[0m in \u001b[0;36m<module>\u001b[0;34m()\u001b[0m\n\u001b[1;32m      2\u001b[0m \u001b[0;32mfor\u001b[0m \u001b[0mpath\u001b[0m \u001b[0;32min\u001b[0m \u001b[0;34m[\u001b[0m\u001b[0;34m'model_0.pt'\u001b[0m \u001b[0;34m,\u001b[0m\u001b[0;34m'model_1.pt'\u001b[0m\u001b[0;34m,\u001b[0m\u001b[0;34m'model_2.pt'\u001b[0m\u001b[0;34m,\u001b[0m\u001b[0;34m'model_3.pt'\u001b[0m\u001b[0;34m,\u001b[0m\u001b[0;34m'model_4.pt'\u001b[0m\u001b[0;34m]\u001b[0m\u001b[0;34m:\u001b[0m\u001b[0;34m\u001b[0m\u001b[0m\n\u001b[1;32m      3\u001b[0m     \u001b[0mpred\u001b[0m \u001b[0;34m=\u001b[0m \u001b[0;34m[\u001b[0m\u001b[0;34m]\u001b[0m\u001b[0;34m\u001b[0m\u001b[0m\n\u001b[0;32m----> 4\u001b[0;31m     \u001b[0mmodel\u001b[0m\u001b[0;34m.\u001b[0m\u001b[0mload_state_dict\u001b[0m\u001b[0;34m(\u001b[0m\u001b[0mtorch\u001b[0m\u001b[0;34m.\u001b[0m\u001b[0mload\u001b[0m\u001b[0;34m(\u001b[0m\u001b[0mpath\u001b[0m\u001b[0;34m)\u001b[0m\u001b[0;34m)\u001b[0m\u001b[0;34m\u001b[0m\u001b[0m\n\u001b[0m\u001b[1;32m      5\u001b[0m     \u001b[0mmodel\u001b[0m\u001b[0;34m.\u001b[0m\u001b[0meval\u001b[0m\u001b[0;34m(\u001b[0m\u001b[0;34m)\u001b[0m\u001b[0;34m\u001b[0m\u001b[0m\n\u001b[1;32m      6\u001b[0m     \u001b[0;32mwith\u001b[0m \u001b[0mtorch\u001b[0m\u001b[0;34m.\u001b[0m\u001b[0mno_grad\u001b[0m\u001b[0;34m(\u001b[0m\u001b[0;34m)\u001b[0m\u001b[0;34m:\u001b[0m\u001b[0;34m\u001b[0m\u001b[0m\n",
      "\u001b[0;31mNameError\u001b[0m: name 'model' is not defined"
     ]
    }
   ],
   "source": [
    "pred_tta = []\n",
    "for path in ['model_0.pt' ,'model_1.pt','model_2.pt','model_3.pt','model_4.pt']:\n",
    "    pred = []\n",
    "    model.load_state_dict(torch.load(path))\n",
    "    model.eval()\n",
    "    with torch.no_grad():\n",
    "        for t, (x, y) in enumerate(test_loader):\n",
    "            x_var = Variable(x).cuda(async=True)\n",
    "            y_var = Variable(y).cuda()\n",
    "            scores = model(x_var)\n",
    "            pred.append(scores.data.cpu().numpy())\n",
    "    pred = np.concatenate(pred, 0)    \n",
    "    print(path)\n",
    "    pred_tta.append(pred)\n",
    "\n",
    "pred_aug = np.mean(pred_tta, axis=0)\n",
    "\n",
    "pred_aug = pred_aug * 96 + 96"
   ]
  },
  {
   "cell_type": "code",
   "execution_count": 61,
   "metadata": {},
   "outputs": [
    {
     "data": {
      "text/plain": [
       "(2049, 8)"
      ]
     },
     "execution_count": 61,
     "metadata": {},
     "output_type": "execute_result"
    }
   ],
   "source": [
    "pred_aug.shape"
   ]
  },
  {
   "cell_type": "code",
   "execution_count": 62,
   "metadata": {},
   "outputs": [
    {
     "data": {
      "text/html": [
       "<div>\n",
       "<style scoped>\n",
       "    .dataframe tbody tr th:only-of-type {\n",
       "        vertical-align: middle;\n",
       "    }\n",
       "\n",
       "    .dataframe tbody tr th {\n",
       "        vertical-align: top;\n",
       "    }\n",
       "\n",
       "    .dataframe thead th {\n",
       "        text-align: right;\n",
       "    }\n",
       "</style>\n",
       "<table border=\"1\" class=\"dataframe\">\n",
       "  <thead>\n",
       "    <tr style=\"text-align: right;\">\n",
       "      <th></th>\n",
       "      <th>left_eye_center_x</th>\n",
       "      <th>left_eye_center_y</th>\n",
       "      <th>right_eye_center_x</th>\n",
       "      <th>right_eye_center_y</th>\n",
       "      <th>nose_tip_x</th>\n",
       "      <th>nose_tip_y</th>\n",
       "      <th>mouth_center_bottom_lip_x</th>\n",
       "      <th>mouth_center_bottom_lip_y</th>\n",
       "    </tr>\n",
       "  </thead>\n",
       "  <tbody>\n",
       "    <tr>\n",
       "      <th>0</th>\n",
       "      <td>132.511200</td>\n",
       "      <td>78.687752</td>\n",
       "      <td>67.979271</td>\n",
       "      <td>75.996902</td>\n",
       "      <td>99.784378</td>\n",
       "      <td>124.813370</td>\n",
       "      <td>96.644455</td>\n",
       "      <td>148.553116</td>\n",
       "    </tr>\n",
       "    <tr>\n",
       "      <th>1</th>\n",
       "      <td>127.156624</td>\n",
       "      <td>70.896820</td>\n",
       "      <td>62.005310</td>\n",
       "      <td>71.758743</td>\n",
       "      <td>91.576256</td>\n",
       "      <td>110.939911</td>\n",
       "      <td>93.947998</td>\n",
       "      <td>152.912735</td>\n",
       "    </tr>\n",
       "    <tr>\n",
       "      <th>2</th>\n",
       "      <td>131.582916</td>\n",
       "      <td>70.285454</td>\n",
       "      <td>58.170959</td>\n",
       "      <td>85.600609</td>\n",
       "      <td>102.104843</td>\n",
       "      <td>130.564117</td>\n",
       "      <td>107.521729</td>\n",
       "      <td>155.689529</td>\n",
       "    </tr>\n",
       "    <tr>\n",
       "      <th>3</th>\n",
       "      <td>138.471420</td>\n",
       "      <td>71.466400</td>\n",
       "      <td>54.073914</td>\n",
       "      <td>69.488602</td>\n",
       "      <td>96.354752</td>\n",
       "      <td>121.162354</td>\n",
       "      <td>94.921028</td>\n",
       "      <td>149.645630</td>\n",
       "    </tr>\n",
       "    <tr>\n",
       "      <th>4</th>\n",
       "      <td>120.840401</td>\n",
       "      <td>78.963890</td>\n",
       "      <td>63.248596</td>\n",
       "      <td>71.422440</td>\n",
       "      <td>108.178413</td>\n",
       "      <td>128.026367</td>\n",
       "      <td>94.708191</td>\n",
       "      <td>155.053909</td>\n",
       "    </tr>\n",
       "    <tr>\n",
       "      <th>...</th>\n",
       "      <td>...</td>\n",
       "      <td>...</td>\n",
       "      <td>...</td>\n",
       "      <td>...</td>\n",
       "      <td>...</td>\n",
       "      <td>...</td>\n",
       "      <td>...</td>\n",
       "      <td>...</td>\n",
       "    </tr>\n",
       "    <tr>\n",
       "      <th>2044</th>\n",
       "      <td>126.150711</td>\n",
       "      <td>84.735878</td>\n",
       "      <td>61.367538</td>\n",
       "      <td>78.587570</td>\n",
       "      <td>106.641129</td>\n",
       "      <td>125.174950</td>\n",
       "      <td>102.595345</td>\n",
       "      <td>160.083878</td>\n",
       "    </tr>\n",
       "    <tr>\n",
       "      <th>2045</th>\n",
       "      <td>95.113075</td>\n",
       "      <td>49.619690</td>\n",
       "      <td>43.149475</td>\n",
       "      <td>57.059196</td>\n",
       "      <td>65.670975</td>\n",
       "      <td>84.702408</td>\n",
       "      <td>66.680962</td>\n",
       "      <td>107.640686</td>\n",
       "    </tr>\n",
       "    <tr>\n",
       "      <th>2046</th>\n",
       "      <td>134.485184</td>\n",
       "      <td>80.250023</td>\n",
       "      <td>60.528595</td>\n",
       "      <td>78.820732</td>\n",
       "      <td>98.257919</td>\n",
       "      <td>135.855011</td>\n",
       "      <td>97.174202</td>\n",
       "      <td>159.522797</td>\n",
       "    </tr>\n",
       "    <tr>\n",
       "      <th>2047</th>\n",
       "      <td>135.690567</td>\n",
       "      <td>74.325691</td>\n",
       "      <td>58.920319</td>\n",
       "      <td>74.248215</td>\n",
       "      <td>99.970184</td>\n",
       "      <td>120.588028</td>\n",
       "      <td>100.033966</td>\n",
       "      <td>150.546097</td>\n",
       "    </tr>\n",
       "    <tr>\n",
       "      <th>2048</th>\n",
       "      <td>130.622559</td>\n",
       "      <td>72.491539</td>\n",
       "      <td>59.255859</td>\n",
       "      <td>75.681107</td>\n",
       "      <td>97.996765</td>\n",
       "      <td>119.458542</td>\n",
       "      <td>98.709892</td>\n",
       "      <td>148.327988</td>\n",
       "    </tr>\n",
       "  </tbody>\n",
       "</table>\n",
       "<p>2049 rows × 8 columns</p>\n",
       "</div>"
      ],
      "text/plain": [
       "      left_eye_center_x  left_eye_center_y  right_eye_center_x  \\\n",
       "0            132.511200          78.687752           67.979271   \n",
       "1            127.156624          70.896820           62.005310   \n",
       "2            131.582916          70.285454           58.170959   \n",
       "3            138.471420          71.466400           54.073914   \n",
       "4            120.840401          78.963890           63.248596   \n",
       "...                 ...                ...                 ...   \n",
       "2044         126.150711          84.735878           61.367538   \n",
       "2045          95.113075          49.619690           43.149475   \n",
       "2046         134.485184          80.250023           60.528595   \n",
       "2047         135.690567          74.325691           58.920319   \n",
       "2048         130.622559          72.491539           59.255859   \n",
       "\n",
       "      right_eye_center_y  nose_tip_x  nose_tip_y  mouth_center_bottom_lip_x  \\\n",
       "0              75.996902   99.784378  124.813370                  96.644455   \n",
       "1              71.758743   91.576256  110.939911                  93.947998   \n",
       "2              85.600609  102.104843  130.564117                 107.521729   \n",
       "3              69.488602   96.354752  121.162354                  94.921028   \n",
       "4              71.422440  108.178413  128.026367                  94.708191   \n",
       "...                  ...         ...         ...                        ...   \n",
       "2044           78.587570  106.641129  125.174950                 102.595345   \n",
       "2045           57.059196   65.670975   84.702408                  66.680962   \n",
       "2046           78.820732   98.257919  135.855011                  97.174202   \n",
       "2047           74.248215   99.970184  120.588028                 100.033966   \n",
       "2048           75.681107   97.996765  119.458542                  98.709892   \n",
       "\n",
       "      mouth_center_bottom_lip_y  \n",
       "0                    148.553116  \n",
       "1                    152.912735  \n",
       "2                    155.689529  \n",
       "3                    149.645630  \n",
       "4                    155.053909  \n",
       "...                         ...  \n",
       "2044                 160.083878  \n",
       "2045                 107.640686  \n",
       "2046                 159.522797  \n",
       "2047                 150.546097  \n",
       "2048                 148.327988  \n",
       "\n",
       "[2049 rows x 8 columns]"
      ]
     },
     "execution_count": 62,
     "metadata": {},
     "output_type": "execute_result"
    }
   ],
   "source": [
    "# 再翻转回来\n",
    "aug_test_points = []\n",
    "transform_RandomContrast = A.Compose(\n",
    "    [A.HorizontalFlip(p=1)], \n",
    "    keypoint_params=A.KeypointParams(format='xy')\n",
    ")\n",
    "\n",
    "\n",
    "\n",
    "# for i in range(len(aug_test)):\n",
    "#     transformed = transform_RandomContrast(image=aug_test[i],keypoints=pred_aug[i].reshape(-1,2))\n",
    "#     aug_test_points.append(list(chain.from_iterable(transformed['keypoints'][[1, 0, 2, 3]])))\n",
    "\n",
    "for i in range(pred_aug.shape[0]):\n",
    "    aug, pnt = flip(aug_test[i], pred_aug[i])\n",
    "    aug_test_points.append(pnt)\n",
    "\n",
    "pd.DataFrame(np.array(aug_test_points), columns=col)"
   ]
  },
  {
   "cell_type": "code",
   "execution_count": 70,
   "metadata": {},
   "outputs": [],
   "source": [
    "pd.DataFrame((np.array(aug_test_points) / 2 + np.array(test_points))/2, columns=col).to_csv('submit825_3.csv', index=None)"
   ]
  },
  {
   "cell_type": "code",
   "execution_count": null,
   "metadata": {},
   "outputs": [],
   "source": []
  }
 ],
 "metadata": {
  "kernelspec": {
   "display_name": "Python 3",
   "language": "python",
   "name": "python3"
  },
  "language_info": {
   "codemirror_mode": {
    "name": "ipython",
    "version": 3
   },
   "file_extension": ".py",
   "mimetype": "text/x-python",
   "name": "python",
   "nbconvert_exporter": "python",
   "pygments_lexer": "ipython3",
   "version": "3.6.2"
  }
 },
 "nbformat": 4,
 "nbformat_minor": 2
}
